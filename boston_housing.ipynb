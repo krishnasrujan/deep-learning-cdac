{
 "cells": [
  {
   "cell_type": "code",
   "execution_count": 1,
   "metadata": {},
   "outputs": [],
   "source": [
    "import os\n",
    "import numpy as np\n",
    "import pandas as pd\n",
    "import pickle\n",
    "import matplotlib.pyplot as plt\n",
    "from sklearn import datasets, linear_model\n",
    "from sklearn.model_selection import train_test_split\n",
    "from sklearn.metrics import accuracy_score, confusion_matrix\n",
    "from sklearn.metrics import plot_confusion_matrix\n",
    "from sklearn.preprocessing import MinMaxScaler, OneHotEncoder, LabelEncoder\n",
    "\n",
    "import tensorflow as tf\n",
    "from tensorflow.keras import layers\n",
    "from tensorflow.keras.models import Sequential\n",
    "\n",
    "from tensorflow.compat.v1 import ConfigProto\n",
    "from tensorflow.compat.v1 import InteractiveSession\n",
    "\n",
    "config = ConfigProto()\n",
    "config.gpu_options.allow_growth = True\n",
    "session = InteractiveSession(config=config)\n",
    "\n",
    "RAMDOM_STATE = 42"
   ]
  },
  {
   "cell_type": "code",
   "execution_count": 3,
   "metadata": {},
   "outputs": [],
   "source": [
    "from sklearn.datasets import load_boston"
   ]
  },
  {
   "cell_type": "code",
   "execution_count": 6,
   "metadata": {},
   "outputs": [
    {
     "data": {
      "text/plain": [
       "array([[6.3200e-03, 1.8000e+01, 2.3100e+00, ..., 1.5300e+01, 3.9690e+02,\n",
       "        4.9800e+00],\n",
       "       [2.7310e-02, 0.0000e+00, 7.0700e+00, ..., 1.7800e+01, 3.9690e+02,\n",
       "        9.1400e+00],\n",
       "       [2.7290e-02, 0.0000e+00, 7.0700e+00, ..., 1.7800e+01, 3.9283e+02,\n",
       "        4.0300e+00],\n",
       "       ...,\n",
       "       [6.0760e-02, 0.0000e+00, 1.1930e+01, ..., 2.1000e+01, 3.9690e+02,\n",
       "        5.6400e+00],\n",
       "       [1.0959e-01, 0.0000e+00, 1.1930e+01, ..., 2.1000e+01, 3.9345e+02,\n",
       "        6.4800e+00],\n",
       "       [4.7410e-02, 0.0000e+00, 1.1930e+01, ..., 2.1000e+01, 3.9690e+02,\n",
       "        7.8800e+00]])"
      ]
     },
     "execution_count": 6,
     "metadata": {},
     "output_type": "execute_result"
    }
   ],
   "source": [
    "X, y = load_boston(return_X_y=True)"
   ]
  },
  {
   "cell_type": "code",
   "execution_count": 27,
   "metadata": {},
   "outputs": [],
   "source": [
    "minmax = MinMaxScaler()\n",
    "X = minmax.fit_transform(X)"
   ]
  },
  {
   "cell_type": "code",
   "execution_count": 28,
   "metadata": {},
   "outputs": [],
   "source": [
    "x_train,x_test,y_train,y_test = train_test_split(X,y,test_size=0.2,random_state=RAMDOM_STATE)"
   ]
  },
  {
   "cell_type": "code",
   "execution_count": 29,
   "metadata": {},
   "outputs": [],
   "source": [
    "adam = tf.keras.optimizers.Adam(0.001)\n",
    "sgd = tf.keras.optimizers.SGD(0.001)\n",
    "\n",
    "glorot_uniform = tf.keras.initializers.GlorotUniform(seed = RAMDOM_STATE)\n",
    "glorot_normal = tf.keras.initializers.GlorotNormal(seed = RAMDOM_STATE)\n",
    "he_uniform = tf.keras.initializers.HeUniform(seed = RAMDOM_STATE)\n",
    "he_normal = tf.keras.initializers.HeNormal(seed = RAMDOM_STATE)"
   ]
  },
  {
   "cell_type": "code",
   "execution_count": 30,
   "metadata": {},
   "outputs": [
    {
     "name": "stdout",
     "output_type": "stream",
     "text": [
      "Epoch 1/20\n",
      "13/13 [==============================] - 0s 18ms/step - loss: 565.5908 - val_loss: 468.9926\n",
      "Epoch 2/20\n",
      "13/13 [==============================] - 0s 6ms/step - loss: 512.1958 - val_loss: 412.6281\n",
      "Epoch 3/20\n",
      "13/13 [==============================] - 0s 5ms/step - loss: 443.4246 - val_loss: 336.7108\n",
      "Epoch 4/20\n",
      "13/13 [==============================] - 0s 6ms/step - loss: 352.8007 - val_loss: 243.8691\n",
      "Epoch 5/20\n",
      "13/13 [==============================] - 0s 5ms/step - loss: 250.3970 - val_loss: 159.8914\n",
      "Epoch 6/20\n",
      "13/13 [==============================] - 0s 6ms/step - loss: 170.4235 - val_loss: 121.1317\n",
      "Epoch 7/20\n",
      "13/13 [==============================] - 0s 10ms/step - loss: 134.9140 - val_loss: 116.6499\n",
      "Epoch 8/20\n",
      "13/13 [==============================] - 0s 5ms/step - loss: 124.2223 - val_loss: 110.0382\n",
      "Epoch 9/20\n",
      "13/13 [==============================] - 0s 5ms/step - loss: 115.5717 - val_loss: 99.2724\n",
      "Epoch 10/20\n",
      "13/13 [==============================] - 0s 6ms/step - loss: 106.3124 - val_loss: 91.0173\n",
      "Epoch 11/20\n",
      "13/13 [==============================] - 0s 10ms/step - loss: 98.3784 - val_loss: 83.8112\n",
      "Epoch 12/20\n",
      "13/13 [==============================] - 0s 9ms/step - loss: 91.4145 - val_loss: 76.8193\n",
      "Epoch 13/20\n",
      "13/13 [==============================] - 0s 9ms/step - loss: 84.3983 - val_loss: 71.9392\n",
      "Epoch 14/20\n",
      "13/13 [==============================] - 0s 9ms/step - loss: 78.4189 - val_loss: 65.7411\n",
      "Epoch 15/20\n",
      "13/13 [==============================] - 0s 10ms/step - loss: 72.6086 - val_loss: 61.3557\n",
      "Epoch 16/20\n",
      "13/13 [==============================] - 0s 11ms/step - loss: 68.0979 - val_loss: 57.1041\n",
      "Epoch 17/20\n",
      "13/13 [==============================] - 0s 8ms/step - loss: 63.7824 - val_loss: 54.3645\n",
      "Epoch 18/20\n",
      "13/13 [==============================] - 0s 9ms/step - loss: 60.6197 - val_loss: 51.3696\n",
      "Epoch 19/20\n",
      "13/13 [==============================] - 0s 9ms/step - loss: 57.6699 - val_loss: 49.4931\n",
      "Epoch 20/20\n",
      "13/13 [==============================] - 0s 12ms/step - loss: 55.4616 - val_loss: 48.2068\n"
     ]
    }
   ],
   "source": [
    "model = Sequential()\n",
    "\n",
    "model.add(layers.Dense(32,input_shape=(13,)))\n",
    "model.add(layers.Dense(64,activation='relu',kernel_initializer = glorot_normal))\n",
    "model.add(layers.Dense(1))\n",
    "\n",
    "model.compile(optimizer=adam,loss='mse')\n",
    "\n",
    "history = model.fit(x_train,y_train, validation_data =(x_test,y_test),epochs=20)"
   ]
  },
  {
   "cell_type": "code",
   "execution_count": 31,
   "metadata": {},
   "outputs": [
    {
     "name": "stdout",
     "output_type": "stream",
     "text": [
      "Epoch 1/20\n",
      "13/13 [==============================] - 0s 19ms/step - loss: 524.4583 - val_loss: 356.9396\n",
      "Epoch 2/20\n",
      "13/13 [==============================] - 0s 5ms/step - loss: 321.0861 - val_loss: 167.0276\n",
      "Epoch 3/20\n",
      "13/13 [==============================] - 0s 6ms/step - loss: 161.4944 - val_loss: 144.6969\n",
      "Epoch 4/20\n",
      "13/13 [==============================] - 0s 5ms/step - loss: 136.7016 - val_loss: 112.9219\n",
      "Epoch 5/20\n",
      "13/13 [==============================] - 0s 5ms/step - loss: 112.0641 - val_loss: 90.3904\n",
      "Epoch 6/20\n",
      "13/13 [==============================] - 0s 5ms/step - loss: 95.5773 - val_loss: 78.1961\n",
      "Epoch 7/20\n",
      "13/13 [==============================] - 0s 5ms/step - loss: 81.7654 - val_loss: 66.7365\n",
      "Epoch 8/20\n",
      "13/13 [==============================] - 0s 6ms/step - loss: 71.5386 - val_loss: 58.4163\n",
      "Epoch 9/20\n",
      "13/13 [==============================] - 0s 6ms/step - loss: 64.1480 - val_loss: 51.5293\n",
      "Epoch 10/20\n",
      "13/13 [==============================] - 0s 6ms/step - loss: 58.7820 - val_loss: 49.3857\n",
      "Epoch 11/20\n",
      "13/13 [==============================] - 0s 6ms/step - loss: 55.7758 - val_loss: 47.6872\n",
      "Epoch 12/20\n",
      "13/13 [==============================] - 0s 6ms/step - loss: 53.4778 - val_loss: 45.5414\n",
      "Epoch 13/20\n",
      "13/13 [==============================] - 0s 11ms/step - loss: 51.6973 - val_loss: 44.1968\n",
      "Epoch 14/20\n",
      "13/13 [==============================] - 0s 12ms/step - loss: 49.6036 - val_loss: 43.2182\n",
      "Epoch 15/20\n",
      "13/13 [==============================] - 0s 11ms/step - loss: 47.6770 - val_loss: 41.5095\n",
      "Epoch 16/20\n",
      "13/13 [==============================] - 0s 11ms/step - loss: 45.7349 - val_loss: 40.4599\n",
      "Epoch 17/20\n",
      "13/13 [==============================] - 0s 10ms/step - loss: 43.9651 - val_loss: 38.8204\n",
      "Epoch 18/20\n",
      "13/13 [==============================] - 0s 11ms/step - loss: 42.3701 - val_loss: 37.4098\n",
      "Epoch 19/20\n",
      "13/13 [==============================] - 0s 11ms/step - loss: 40.5179 - val_loss: 36.2998\n",
      "Epoch 20/20\n",
      "13/13 [==============================] - 0s 13ms/step - loss: 38.8910 - val_loss: 34.9214\n"
     ]
    }
   ],
   "source": [
    "model = Sequential()\n",
    "\n",
    "model.add(layers.Dense(32,input_shape=(13,)))\n",
    "model.add(layers.Dense(64,activation='relu',kernel_initializer = he_normal))\n",
    "model.add(layers.Dense(1))\n",
    "\n",
    "model.compile(optimizer=adam,loss='mse')\n",
    "\n",
    "history = model.fit(x_train,y_train, validation_data =(x_test,y_test),epochs=20)"
   ]
  },
  {
   "cell_type": "code",
   "execution_count": 14,
   "metadata": {},
   "outputs": [
    {
     "name": "stdout",
     "output_type": "stream",
     "text": [
      "Epoch 1/20\n",
      "13/13 [==============================] - 0s 17ms/step - loss: 6790.5610 - val_loss: 2596.2354\n",
      "Epoch 2/20\n",
      "13/13 [==============================] - 0s 5ms/step - loss: 1172.7649 - val_loss: 635.7134\n",
      "Epoch 3/20\n",
      "13/13 [==============================] - 0s 5ms/step - loss: 295.1327 - val_loss: 153.2440\n",
      "Epoch 4/20\n",
      "13/13 [==============================] - 0s 6ms/step - loss: 125.0326 - val_loss: 49.3325\n",
      "Epoch 5/20\n",
      "13/13 [==============================] - 0s 6ms/step - loss: 80.9369 - val_loss: 42.7404\n",
      "Epoch 6/20\n",
      "13/13 [==============================] - 0s 6ms/step - loss: 73.6379 - val_loss: 47.9837\n",
      "Epoch 7/20\n",
      "13/13 [==============================] - 0s 5ms/step - loss: 65.4213 - val_loss: 42.5078\n",
      "Epoch 8/20\n",
      "13/13 [==============================] - 0s 7ms/step - loss: 64.1403 - val_loss: 45.7888\n",
      "Epoch 9/20\n",
      "13/13 [==============================] - 0s 10ms/step - loss: 59.6794 - val_loss: 40.0687\n",
      "Epoch 10/20\n",
      "13/13 [==============================] - 0s 10ms/step - loss: 60.1252 - val_loss: 41.3150\n",
      "Epoch 11/20\n",
      "13/13 [==============================] - 0s 10ms/step - loss: 59.5562 - val_loss: 43.2242\n",
      "Epoch 12/20\n",
      "13/13 [==============================] - 0s 9ms/step - loss: 57.9752 - val_loss: 39.6406\n",
      "Epoch 13/20\n",
      "13/13 [==============================] - 0s 9ms/step - loss: 58.3808 - val_loss: 40.5260\n",
      "Epoch 14/20\n",
      "13/13 [==============================] - 0s 12ms/step - loss: 56.4009 - val_loss: 40.7080\n",
      "Epoch 15/20\n",
      "13/13 [==============================] - 0s 8ms/step - loss: 56.1597 - val_loss: 38.7535\n",
      "Epoch 16/20\n",
      "13/13 [==============================] - 0s 9ms/step - loss: 55.3764 - val_loss: 43.2555\n",
      "Epoch 17/20\n",
      "13/13 [==============================] - 0s 11ms/step - loss: 55.5640 - val_loss: 38.6821\n",
      "Epoch 18/20\n",
      "13/13 [==============================] - 0s 12ms/step - loss: 54.3484 - val_loss: 39.9478\n",
      "Epoch 19/20\n",
      "13/13 [==============================] - 0s 13ms/step - loss: 54.5265 - val_loss: 38.8915\n",
      "Epoch 20/20\n",
      "13/13 [==============================] - 0s 8ms/step - loss: 54.0880 - val_loss: 37.8608\n"
     ]
    }
   ],
   "source": [
    "model = Sequential()\n",
    "\n",
    "model.add(layers.Dense(32,input_shape=(13,)))\n",
    "model.add(layers.Dense(64,activation='relu',kernel_initializer = glorot_uniform))\n",
    "model.add(layers.Dense(1))\n",
    "\n",
    "model.compile(optimizer=adam,loss='mse')\n",
    "\n",
    "history = model.fit(x_train,y_train, validation_data =(x_test,y_test),epochs=20)"
   ]
  },
  {
   "cell_type": "code",
   "execution_count": 22,
   "metadata": {},
   "outputs": [
    {
     "name": "stdout",
     "output_type": "stream",
     "text": [
      "Epoch 1/20\n",
      "7/7 [==============================] - 0s 69ms/step - loss: 98061.0859 - val_loss: 335.0166\n",
      "Epoch 2/20\n",
      "7/7 [==============================] - 0s 8ms/step - loss: 373.8300 - val_loss: 365.5557\n",
      "Epoch 3/20\n",
      "7/7 [==============================] - 0s 8ms/step - loss: 304.0300 - val_loss: 198.8299\n",
      "Epoch 4/20\n",
      "7/7 [==============================] - 0s 8ms/step - loss: 234.8542 - val_loss: 130.4799\n",
      "Epoch 5/20\n",
      "7/7 [==============================] - 0s 10ms/step - loss: 187.0484 - val_loss: 109.1764\n",
      "Epoch 6/20\n",
      "7/7 [==============================] - 0s 8ms/step - loss: 165.1750 - val_loss: 121.9232\n",
      "Epoch 7/20\n",
      "7/7 [==============================] - 0s 10ms/step - loss: 148.3222 - val_loss: 87.6901\n",
      "Epoch 8/20\n",
      "7/7 [==============================] - 0s 13ms/step - loss: 129.8745 - val_loss: 72.0253\n",
      "Epoch 9/20\n",
      "7/7 [==============================] - 0s 13ms/step - loss: 117.0586 - val_loss: 65.9371\n",
      "Epoch 10/20\n",
      "7/7 [==============================] - 0s 13ms/step - loss: 105.2299 - val_loss: 63.7315\n",
      "Epoch 11/20\n",
      "7/7 [==============================] - 0s 14ms/step - loss: 99.3487 - val_loss: 58.3327\n",
      "Epoch 12/20\n",
      "7/7 [==============================] - 0s 15ms/step - loss: 90.6866 - val_loss: 55.0931\n",
      "Epoch 13/20\n",
      "7/7 [==============================] - 0s 14ms/step - loss: 87.0027 - val_loss: 55.0819\n",
      "Epoch 14/20\n",
      "7/7 [==============================] - 0s 13ms/step - loss: 84.6478 - val_loss: 48.9570\n",
      "Epoch 15/20\n",
      "7/7 [==============================] - 0s 12ms/step - loss: 80.0076 - val_loss: 48.2265\n",
      "Epoch 16/20\n",
      "7/7 [==============================] - 0s 15ms/step - loss: 76.5527 - val_loss: 55.1281\n",
      "Epoch 17/20\n",
      "7/7 [==============================] - 0s 15ms/step - loss: 82.3338 - val_loss: 45.8905\n",
      "Epoch 18/20\n",
      "7/7 [==============================] - 0s 13ms/step - loss: 74.2125 - val_loss: 44.1857\n",
      "Epoch 19/20\n",
      "7/7 [==============================] - 0s 13ms/step - loss: 71.7302 - val_loss: 48.8470\n",
      "Epoch 20/20\n",
      "7/7 [==============================] - 0s 15ms/step - loss: 71.5153 - val_loss: 42.7935\n"
     ]
    }
   ],
   "source": [
    "# keeping learning rate very low for sgd as it is giving nan values for little higher learning rates\n",
    "\n",
    "sgd = tf.keras.optimizers.SGD(0.000001)\n",
    "\n",
    "model = Sequential()\n",
    "\n",
    "model.add(layers.Dense(32,input_shape=(13,)))\n",
    "model.add(layers.Dense(64,activation='relu',kernel_initializer = he_normal))\n",
    "model.add(layers.Dense(1))\n",
    "\n",
    "model.compile(optimizer=sgd,loss='mse')\n",
    "\n",
    "history = model.fit(x_train,y_train,batch_size=64,validation_data =(x_test,y_test),epochs=20)"
   ]
  },
  {
   "cell_type": "code",
   "execution_count": 23,
   "metadata": {},
   "outputs": [
    {
     "name": "stdout",
     "output_type": "stream",
     "text": [
      "Epoch 1/20\n",
      "7/7 [==============================] - 0s 29ms/step - loss: 18323.1914 - val_loss: 248.2249\n",
      "Epoch 2/20\n",
      "7/7 [==============================] - 0s 9ms/step - loss: 185.3970 - val_loss: 151.7270\n",
      "Epoch 3/20\n",
      "7/7 [==============================] - 0s 6ms/step - loss: 118.5956 - val_loss: 109.3169\n",
      "Epoch 4/20\n",
      "7/7 [==============================] - 0s 7ms/step - loss: 97.1918 - val_loss: 84.0544\n",
      "Epoch 5/20\n",
      "7/7 [==============================] - 0s 6ms/step - loss: 80.5758 - val_loss: 76.5206\n",
      "Epoch 6/20\n",
      "7/7 [==============================] - 0s 8ms/step - loss: 75.1837 - val_loss: 77.6424\n",
      "Epoch 7/20\n",
      "7/7 [==============================] - ETA: 0s - loss: 74.67 - 0s 8ms/step - loss: 73.7165 - val_loss: 71.4526\n",
      "Epoch 8/20\n",
      "7/7 [==============================] - 0s 14ms/step - loss: 72.2287 - val_loss: 79.2960\n",
      "Epoch 9/20\n",
      "7/7 [==============================] - 0s 12ms/step - loss: 79.0862 - val_loss: 68.3098\n",
      "Epoch 10/20\n",
      "7/7 [==============================] - 0s 13ms/step - loss: 71.4749 - val_loss: 66.5308\n",
      "Epoch 11/20\n",
      "7/7 [==============================] - 0s 13ms/step - loss: 70.6309 - val_loss: 65.1035\n",
      "Epoch 12/20\n",
      "7/7 [==============================] - 0s 17ms/step - loss: 70.1863 - val_loss: 65.1251\n",
      "Epoch 13/20\n",
      "7/7 [==============================] - 0s 14ms/step - loss: 68.8734 - val_loss: 65.1601\n",
      "Epoch 14/20\n",
      "7/7 [==============================] - 0s 13ms/step - loss: 69.7317 - val_loss: 62.4783\n",
      "Epoch 15/20\n",
      "7/7 [==============================] - 0s 13ms/step - loss: 69.8348 - val_loss: 62.5611\n",
      "Epoch 16/20\n",
      "7/7 [==============================] - 0s 13ms/step - loss: 70.5397 - val_loss: 60.3123\n",
      "Epoch 17/20\n",
      "7/7 [==============================] - 0s 14ms/step - loss: 70.1347 - val_loss: 60.5959\n",
      "Epoch 18/20\n",
      "7/7 [==============================] - 0s 14ms/step - loss: 67.0698 - val_loss: 60.3752\n",
      "Epoch 19/20\n",
      "7/7 [==============================] - 0s 14ms/step - loss: 66.8864 - val_loss: 62.2560\n",
      "Epoch 20/20\n",
      "7/7 [==============================] - 0s 14ms/step - loss: 66.5983 - val_loss: 57.9930\n"
     ]
    }
   ],
   "source": [
    "sgd = tf.keras.optimizers.SGD(0.000001)\n",
    "\n",
    "model = Sequential()\n",
    "\n",
    "model.add(layers.Dense(32,input_shape=(13,)))\n",
    "model.add(layers.Dense(64,activation='relu',kernel_initializer = glorot_normal))\n",
    "model.add(layers.Dense(1))\n",
    "\n",
    "model.compile(optimizer=sgd,loss='mse')\n",
    "\n",
    "history = model.fit(x_train,y_train,batch_size=64,validation_data =(x_test,y_test),epochs=20)"
   ]
  }
 ],
 "metadata": {
  "kernelspec": {
   "display_name": "Python 3",
   "language": "python",
   "name": "python3"
  },
  "language_info": {
   "codemirror_mode": {
    "name": "ipython",
    "version": 3
   },
   "file_extension": ".py",
   "mimetype": "text/x-python",
   "name": "python",
   "nbconvert_exporter": "python",
   "pygments_lexer": "ipython3",
   "version": "3.7.6"
  }
 },
 "nbformat": 4,
 "nbformat_minor": 4
}
