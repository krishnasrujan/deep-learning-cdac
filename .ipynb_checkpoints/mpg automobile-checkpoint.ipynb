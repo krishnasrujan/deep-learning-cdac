{
 "cells": [
  {
   "cell_type": "code",
   "execution_count": 1,
   "metadata": {},
   "outputs": [],
   "source": [
    "import os\n",
    "import numpy as np\n",
    "import pandas as pd\n",
    "import pickle\n",
    "import matplotlib.pyplot as plt\n",
    "from sklearn import datasets, linear_model\n",
    "from sklearn.model_selection import train_test_split\n",
    "from sklearn.metrics import accuracy_score, confusion_matrix\n",
    "from sklearn.metrics import plot_confusion_matrix\n",
    "from sklearn.preprocessing import MinMaxScaler, OneHotEncoder, LabelEncoder\n",
    "\n",
    "import tensorflow as tf\n",
    "from tensorflow.keras import layers\n",
    "from tensorflow.keras.models import Sequential\n",
    "\n",
    "# this is for training model on GPU\n",
    "from tensorflow.compat.v1 import ConfigProto\n",
    "from tensorflow.compat.v1 import InteractiveSession\n",
    "\n",
    "config = ConfigProto()\n",
    "config.gpu_options.allow_growth = True\n",
    "session = InteractiveSession(config=config)\n",
    "\n",
    "RAMDOM_STATE = 42"
   ]
  },
  {
   "cell_type": "code",
   "execution_count": 11,
   "metadata": {},
   "outputs": [
    {
     "data": {
      "text/html": [
       "<div>\n",
       "<style scoped>\n",
       "    .dataframe tbody tr th:only-of-type {\n",
       "        vertical-align: middle;\n",
       "    }\n",
       "\n",
       "    .dataframe tbody tr th {\n",
       "        vertical-align: top;\n",
       "    }\n",
       "\n",
       "    .dataframe thead th {\n",
       "        text-align: right;\n",
       "    }\n",
       "</style>\n",
       "<table border=\"1\" class=\"dataframe\">\n",
       "  <thead>\n",
       "    <tr style=\"text-align: right;\">\n",
       "      <th></th>\n",
       "      <th>MPG</th>\n",
       "      <th>Cylinders</th>\n",
       "      <th>Displacement</th>\n",
       "      <th>Horsepower</th>\n",
       "      <th>Weight</th>\n",
       "      <th>Acceleration</th>\n",
       "      <th>Model Year</th>\n",
       "      <th>Origin</th>\n",
       "    </tr>\n",
       "  </thead>\n",
       "  <tbody>\n",
       "    <tr>\n",
       "      <th>0</th>\n",
       "      <td>18.0</td>\n",
       "      <td>8</td>\n",
       "      <td>307.0</td>\n",
       "      <td>130.0</td>\n",
       "      <td>3504.0</td>\n",
       "      <td>12.0</td>\n",
       "      <td>70</td>\n",
       "      <td>1</td>\n",
       "    </tr>\n",
       "    <tr>\n",
       "      <th>1</th>\n",
       "      <td>15.0</td>\n",
       "      <td>8</td>\n",
       "      <td>350.0</td>\n",
       "      <td>165.0</td>\n",
       "      <td>3693.0</td>\n",
       "      <td>11.5</td>\n",
       "      <td>70</td>\n",
       "      <td>1</td>\n",
       "    </tr>\n",
       "    <tr>\n",
       "      <th>2</th>\n",
       "      <td>18.0</td>\n",
       "      <td>8</td>\n",
       "      <td>318.0</td>\n",
       "      <td>150.0</td>\n",
       "      <td>3436.0</td>\n",
       "      <td>11.0</td>\n",
       "      <td>70</td>\n",
       "      <td>1</td>\n",
       "    </tr>\n",
       "    <tr>\n",
       "      <th>3</th>\n",
       "      <td>16.0</td>\n",
       "      <td>8</td>\n",
       "      <td>304.0</td>\n",
       "      <td>150.0</td>\n",
       "      <td>3433.0</td>\n",
       "      <td>12.0</td>\n",
       "      <td>70</td>\n",
       "      <td>1</td>\n",
       "    </tr>\n",
       "    <tr>\n",
       "      <th>4</th>\n",
       "      <td>17.0</td>\n",
       "      <td>8</td>\n",
       "      <td>302.0</td>\n",
       "      <td>140.0</td>\n",
       "      <td>3449.0</td>\n",
       "      <td>10.5</td>\n",
       "      <td>70</td>\n",
       "      <td>1</td>\n",
       "    </tr>\n",
       "    <tr>\n",
       "      <th>...</th>\n",
       "      <td>...</td>\n",
       "      <td>...</td>\n",
       "      <td>...</td>\n",
       "      <td>...</td>\n",
       "      <td>...</td>\n",
       "      <td>...</td>\n",
       "      <td>...</td>\n",
       "      <td>...</td>\n",
       "    </tr>\n",
       "    <tr>\n",
       "      <th>393</th>\n",
       "      <td>27.0</td>\n",
       "      <td>4</td>\n",
       "      <td>140.0</td>\n",
       "      <td>86.0</td>\n",
       "      <td>2790.0</td>\n",
       "      <td>15.6</td>\n",
       "      <td>82</td>\n",
       "      <td>1</td>\n",
       "    </tr>\n",
       "    <tr>\n",
       "      <th>394</th>\n",
       "      <td>44.0</td>\n",
       "      <td>4</td>\n",
       "      <td>97.0</td>\n",
       "      <td>52.0</td>\n",
       "      <td>2130.0</td>\n",
       "      <td>24.6</td>\n",
       "      <td>82</td>\n",
       "      <td>2</td>\n",
       "    </tr>\n",
       "    <tr>\n",
       "      <th>395</th>\n",
       "      <td>32.0</td>\n",
       "      <td>4</td>\n",
       "      <td>135.0</td>\n",
       "      <td>84.0</td>\n",
       "      <td>2295.0</td>\n",
       "      <td>11.6</td>\n",
       "      <td>82</td>\n",
       "      <td>1</td>\n",
       "    </tr>\n",
       "    <tr>\n",
       "      <th>396</th>\n",
       "      <td>28.0</td>\n",
       "      <td>4</td>\n",
       "      <td>120.0</td>\n",
       "      <td>79.0</td>\n",
       "      <td>2625.0</td>\n",
       "      <td>18.6</td>\n",
       "      <td>82</td>\n",
       "      <td>1</td>\n",
       "    </tr>\n",
       "    <tr>\n",
       "      <th>397</th>\n",
       "      <td>31.0</td>\n",
       "      <td>4</td>\n",
       "      <td>119.0</td>\n",
       "      <td>82.0</td>\n",
       "      <td>2720.0</td>\n",
       "      <td>19.4</td>\n",
       "      <td>82</td>\n",
       "      <td>1</td>\n",
       "    </tr>\n",
       "  </tbody>\n",
       "</table>\n",
       "<p>398 rows × 8 columns</p>\n",
       "</div>"
      ],
      "text/plain": [
       "      MPG  Cylinders  Displacement  Horsepower  Weight  Acceleration  \\\n",
       "0    18.0          8         307.0       130.0  3504.0          12.0   \n",
       "1    15.0          8         350.0       165.0  3693.0          11.5   \n",
       "2    18.0          8         318.0       150.0  3436.0          11.0   \n",
       "3    16.0          8         304.0       150.0  3433.0          12.0   \n",
       "4    17.0          8         302.0       140.0  3449.0          10.5   \n",
       "..    ...        ...           ...         ...     ...           ...   \n",
       "393  27.0          4         140.0        86.0  2790.0          15.6   \n",
       "394  44.0          4          97.0        52.0  2130.0          24.6   \n",
       "395  32.0          4         135.0        84.0  2295.0          11.6   \n",
       "396  28.0          4         120.0        79.0  2625.0          18.6   \n",
       "397  31.0          4         119.0        82.0  2720.0          19.4   \n",
       "\n",
       "     Model Year  Origin  \n",
       "0            70       1  \n",
       "1            70       1  \n",
       "2            70       1  \n",
       "3            70       1  \n",
       "4            70       1  \n",
       "..          ...     ...  \n",
       "393          82       1  \n",
       "394          82       2  \n",
       "395          82       1  \n",
       "396          82       1  \n",
       "397          82       1  \n",
       "\n",
       "[398 rows x 8 columns]"
      ]
     },
     "execution_count": 11,
     "metadata": {},
     "output_type": "execute_result"
    }
   ],
   "source": [
    "url = 'http://archive.ics.uci.edu/ml/machine-learning-databases/auto-mpg/auto-mpg.data'\n",
    "column_names = ['MPG', 'Cylinders', 'Displacement', 'Horsepower', 'Weight',\n",
    "                'Acceleration', 'Model Year', 'Origin']\n",
    "\n",
    "data = pd.read_csv(url, names=column_names,\n",
    "                          na_values='?', comment='\\t',\n",
    "                          sep=' ', skipinitialspace=True)\n",
    "data"
   ]
  },
  {
   "cell_type": "code",
   "execution_count": 13,
   "metadata": {},
   "outputs": [
    {
     "data": {
      "text/plain": [
       "MPG             0\n",
       "Cylinders       0\n",
       "Displacement    0\n",
       "Horsepower      6\n",
       "Weight          0\n",
       "Acceleration    0\n",
       "Model Year      0\n",
       "Origin          0\n",
       "dtype: int64"
      ]
     },
     "execution_count": 13,
     "metadata": {},
     "output_type": "execute_result"
    }
   ],
   "source": [
    "data.isnull().sum()"
   ]
  },
  {
   "cell_type": "code",
   "execution_count": 15,
   "metadata": {},
   "outputs": [
    {
     "data": {
      "text/plain": [
       "<matplotlib.axes._subplots.AxesSubplot at 0x1f6dc328348>"
      ]
     },
     "execution_count": 15,
     "metadata": {},
     "output_type": "execute_result"
    },
    {
     "data": {
      "image/png": "[encoded data removed]",
      "text/plain": [
       "<Figure size 432x288 with 1 Axes>"
      ]
     },
     "metadata": {
      "needs_background": "light"
     },
     "output_type": "display_data"
    }
   ],
   "source": [
    "data['Horsepower'].plot(kind='hist')"
   ]
  },
  {
   "cell_type": "code",
   "execution_count": 17,
   "metadata": {},
   "outputs": [
    {
     "data": {
      "text/plain": [
       "<matplotlib.axes._subplots.AxesSubplot at 0x1f6dc643208>"
      ]
     },
     "execution_count": 17,
     "metadata": {},
     "output_type": "execute_result"
    },
    {
     "data": {
      "image/png": "[encoded data removed]",
      "text/plain": [
       "<Figure size 432x288 with 1 Axes>"
      ]
     },
     "metadata": {
      "needs_background": "light"
     },
     "output_type": "display_data"
    }
   ],
   "source": [
    "data['Horsepower'] = data['Horsepower'].fillna(data['Horsepower'].median())\n",
    "data['Horsepower'].plot(kind='hist')\n",
    "\n",
    "\n",
    "#won't be much difference in the distributon of the data as there are very less null values "
   ]
  },
  {
   "cell_type": "code",
   "execution_count": 18,
   "metadata": {},
   "outputs": [],
   "source": [
    "X = data.drop('MPG',axis=1)\n",
    "y=data['MPG']"
   ]
  },
  {
   "cell_type": "code",
   "execution_count": 19,
   "metadata": {},
   "outputs": [],
   "source": [
    "minmax = MinMaxScaler()\n",
    "X = minmax.fit_transform(X)"
   ]
  },
  {
   "cell_type": "code",
   "execution_count": 20,
   "metadata": {},
   "outputs": [],
   "source": [
    "x_train,x_test,y_train,y_test = train_test_split(X,y,test_size=0.2,random_state=RAMDOM_STATE)"
   ]
  },
  {
   "cell_type": "code",
   "execution_count": 21,
   "metadata": {},
   "outputs": [],
   "source": [
    "adam = tf.keras.optimizers.Adam(0.001)\n",
    "sgd = tf.keras.optimizers.SGD(0.001)\n",
    "\n",
    "glorot_uniform = tf.keras.initializers.GlorotUniform(seed = RAMDOM_STATE)\n",
    "glorot_normal = tf.keras.initializers.GlorotNormal(seed = RAMDOM_STATE)\n",
    "he_uniform = tf.keras.initializers.HeUniform(seed = RAMDOM_STATE)\n",
    "he_normal = tf.keras.initializers.HeNormal(seed = RAMDOM_STATE)"
   ]
  },
  {
   "cell_type": "code",
   "execution_count": 23,
   "metadata": {},
   "outputs": [
    {
     "name": "stdout",
     "output_type": "stream",
     "text": [
      "Epoch 1/20\n",
      "10/10 [==============================] - 0s 14ms/step - loss: 602.8829 - val_loss: 560.5088\n",
      "Epoch 2/20\n",
      "10/10 [==============================] - 0s 4ms/step - loss: 578.2745 - val_loss: 534.1550\n",
      "Epoch 3/20\n",
      "10/10 [==============================] - 0s 3ms/step - loss: 547.7046 - val_loss: 500.6458\n",
      "Epoch 4/20\n",
      "10/10 [==============================] - 0s 3ms/step - loss: 507.6418 - val_loss: 455.9614\n",
      "Epoch 5/20\n",
      "10/10 [==============================] - 0s 3ms/step - loss: 455.8384 - val_loss: 399.4937\n",
      "Epoch 6/20\n",
      "10/10 [==============================] - 0s 3ms/step - loss: 392.6544 - val_loss: 333.0781\n",
      "Epoch 7/20\n",
      "10/10 [==============================] - 0s 3ms/step - loss: 319.9019 - val_loss: 261.7482\n",
      "Epoch 8/20\n",
      "10/10 [==============================] - 0s 3ms/step - loss: 245.3964 - val_loss: 194.2763\n",
      "Epoch 9/20\n",
      "10/10 [==============================] - 0s 3ms/step - loss: 180.8631 - val_loss: 140.1830\n",
      "Epoch 10/20\n",
      "10/10 [==============================] - 0s 3ms/step - loss: 134.4507 - val_loss: 108.0311\n",
      "Epoch 11/20\n",
      "10/10 [==============================] - 0s 3ms/step - loss: 107.4824 - val_loss: 93.9619\n",
      "Epoch 12/20\n",
      "10/10 [==============================] - 0s 3ms/step - loss: 95.7113 - val_loss: 85.2335\n",
      "Epoch 13/20\n",
      "10/10 [==============================] - 0s 3ms/step - loss: 87.4222 - val_loss: 76.9834\n",
      "Epoch 14/20\n",
      "10/10 [==============================] - 0s 3ms/step - loss: 79.5652 - val_loss: 68.7352\n",
      "Epoch 15/20\n",
      "10/10 [==============================] - 0s 3ms/step - loss: 72.1923 - val_loss: 61.5539\n",
      "Epoch 16/20\n",
      "10/10 [==============================] - 0s 3ms/step - loss: 65.6331 - val_loss: 55.1442\n",
      "Epoch 17/20\n",
      "10/10 [==============================] - 0s 3ms/step - loss: 59.8761 - val_loss: 49.3837\n",
      "Epoch 18/20\n",
      "10/10 [==============================] - 0s 3ms/step - loss: 54.7471 - val_loss: 44.3347\n",
      "Epoch 19/20\n",
      "10/10 [==============================] - 0s 3ms/step - loss: 50.2204 - val_loss: 39.9102\n",
      "Epoch 20/20\n",
      "10/10 [==============================] - 0s 3ms/step - loss: 46.4193 - val_loss: 36.2812\n"
     ]
    }
   ],
   "source": [
    "model = Sequential()\n",
    "\n",
    "model.add(layers.Dense(32,input_shape=(7,)))\n",
    "model.add(layers.Dense(64,activation='relu',kernel_initializer = glorot_normal))\n",
    "model.add(layers.Dense(1))\n",
    "\n",
    "model.compile(optimizer=adam,loss='mse')\n",
    "\n",
    "history = model.fit(x_train,y_train, validation_data =(x_test,y_test),epochs=20)"
   ]
  },
  {
   "cell_type": "code",
   "execution_count": 24,
   "metadata": {},
   "outputs": [
    {
     "name": "stdout",
     "output_type": "stream",
     "text": [
      "Epoch 1/20\n",
      "10/10 [==============================] - 0s 8ms/step - loss: 537.5061 - val_loss: 370.0610\n",
      "Epoch 2/20\n",
      "10/10 [==============================] - 0s 4ms/step - loss: 205.7290 - val_loss: 73.0972\n",
      "Epoch 3/20\n",
      "10/10 [==============================] - 0s 3ms/step - loss: 68.2057 - val_loss: 47.8271\n",
      "Epoch 4/20\n",
      "10/10 [==============================] - 0s 3ms/step - loss: 47.7122 - val_loss: 32.3711\n",
      "Epoch 5/20\n",
      "10/10 [==============================] - 0s 2ms/step - loss: 36.1504 - val_loss: 23.5895\n",
      "Epoch 6/20\n",
      "10/10 [==============================] - 0s 3ms/step - loss: 29.3123 - val_loss: 19.2214\n",
      "Epoch 7/20\n",
      "10/10 [==============================] - 0s 3ms/step - loss: 26.1533 - val_loss: 16.8145\n",
      "Epoch 8/20\n",
      "10/10 [==============================] - 0s 3ms/step - loss: 23.9693 - val_loss: 16.8736\n",
      "Epoch 9/20\n",
      "10/10 [==============================] - 0s 3ms/step - loss: 22.7379 - val_loss: 15.3098\n",
      "Epoch 10/20\n",
      "10/10 [==============================] - 0s 3ms/step - loss: 22.2011 - val_loss: 14.6856\n",
      "Epoch 11/20\n",
      "10/10 [==============================] - 0s 3ms/step - loss: 21.6770 - val_loss: 14.2982\n",
      "Epoch 12/20\n",
      "10/10 [==============================] - 0s 3ms/step - loss: 21.2183 - val_loss: 14.0755\n",
      "Epoch 13/20\n",
      "10/10 [==============================] - 0s 3ms/step - loss: 20.5624 - val_loss: 13.8258\n",
      "Epoch 14/20\n",
      "10/10 [==============================] - 0s 3ms/step - loss: 20.5000 - val_loss: 13.9498\n",
      "Epoch 15/20\n",
      "10/10 [==============================] - 0s 3ms/step - loss: 19.8983 - val_loss: 13.5429\n",
      "Epoch 16/20\n",
      "10/10 [==============================] - 0s 3ms/step - loss: 19.4334 - val_loss: 12.8471\n",
      "Epoch 17/20\n",
      "10/10 [==============================] - 0s 2ms/step - loss: 19.1441 - val_loss: 12.7817\n",
      "Epoch 18/20\n",
      "10/10 [==============================] - 0s 3ms/step - loss: 19.1557 - val_loss: 12.4746\n",
      "Epoch 19/20\n",
      "10/10 [==============================] - 0s 3ms/step - loss: 18.4804 - val_loss: 12.4789\n",
      "Epoch 20/20\n",
      "10/10 [==============================] - 0s 3ms/step - loss: 18.4848 - val_loss: 12.0643\n"
     ]
    }
   ],
   "source": [
    "model = Sequential()\n",
    "\n",
    "model.add(layers.Dense(32,input_shape=(7,)))\n",
    "model.add(layers.Dense(64,activation='relu',kernel_initializer = glorot_normal))\n",
    "model.add(layers.Dense(1))\n",
    "\n",
    "model.compile(optimizer=sgd,loss='mse')\n",
    "\n",
    "history = model.fit(x_train,y_train, validation_data =(x_test,y_test),epochs=20)"
   ]
  },
  {
   "cell_type": "code",
   "execution_count": null,
   "metadata": {},
   "outputs": [],
   "source": []
  }
 ],
 "metadata": {
  "kernelspec": {
   "display_name": "Python 3",
   "language": "python",
   "name": "python3"
  },
  "language_info": {
   "codemirror_mode": {
    "name": "ipython",
    "version": 3
   },
   "file_extension": ".py",
   "mimetype": "text/x-python",
   "name": "python",
   "nbconvert_exporter": "python",
   "pygments_lexer": "ipython3",
   "version": "3.7.6"
  }
 },
 "nbformat": 4,
 "nbformat_minor": 4
}
