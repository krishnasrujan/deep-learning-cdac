{
 "cells": [
  {
   "cell_type": "code",
   "execution_count": 2,
   "metadata": {},
   "outputs": [],
   "source": [
    "import numpy as np\n",
    "import matplotlib.pyplot as plt\n",
    "\n",
    "alpha = 0.01\n",
    "beta_1 = 0.9\n",
    "beta_2 = 0.999\t\t\t\t\t\t#initialize the values of the parameters\n",
    "epsilon = 1e-8\n",
    "\n",
    "# Take a function of second order\n",
    "def func(x):\n",
    "    return x*x -4*x + 4\n",
    "\n",
    "#calculate the gradient\n",
    "def grad_func(x):\n",
    "    return 2*x - 4\n",
    "\n",
    "\n",
    "#Initializing the parameter\n",
    "theta_0 = 0\n",
    "m_t = 0 \n",
    "v_t = 0 \n",
    "t = 0\n",
    "theta = []\n",
    "cost = []\n",
    "grad_cost = []\n",
    "\n",
    "while (True):    #Keep looping\n",
    "    t+=1\n",
    "    g_t = grad_func(theta_0)\t\t#computes the gradient of the stochastic function\n",
    "    m_t = beta_1*m_t + (1-beta_1)*g_t\t#updates the moving averages of the gradient\n",
    "    v_t = beta_2*v_t + (1-beta_2)*(g_t*g_t)\t#updates the moving averages of the squared gradient\n",
    "    m_cap = m_t/(1-(beta_1**t))\t\t#calculates the bias-corrected estimates\n",
    "    v_cap = v_t/(1-(beta_2**t))\t\t#calculates the bias-corrected estimates\n",
    "    theta_0_prev = theta_0\t\t\t\t\t\t\t\t\n",
    "    theta_0 = theta_0 - (alpha*m_cap)/(np.sqrt(v_cap)+epsilon)\t#updates the parameters\n",
    "    theta.append(theta_0)\n",
    "    cost.append(func(theta_0))\n",
    "    grad_cost.append(grad_func(theta_0))\n",
    "    if(theta_0 == theta_0_prev):\t\t#checks if it is converged or not\n",
    "        break"
   ]
  },
  {
   "cell_type": "code",
   "execution_count": 9,
   "metadata": {},
   "outputs": [
    {
     "data": {
      "image/png": "[encoded data removed]",
      "text/plain": [
       "<Figure size 432x288 with 1 Axes>"
      ]
     },
     "metadata": {
      "needs_background": "light"
     },
     "output_type": "display_data"
    }
   ],
   "source": [
    "plt.plot(theta);\n",
    "plt.plot(cost);\n",
    "plt.plot(grad_cost);\n",
    "plt.grid()"
   ]
  },
  {
   "cell_type": "code",
   "execution_count": null,
   "metadata": {},
   "outputs": [],
   "source": []
  },
  {
   "cell_type": "code",
   "execution_count": null,
   "metadata": {},
   "outputs": [],
   "source": []
  }
 ],
 "metadata": {
  "kernelspec": {
   "display_name": "Python 3",
   "language": "python",
   "name": "python3"
  },
  "language_info": {
   "codemirror_mode": {
    "name": "ipython",
    "version": 3
   },
   "file_extension": ".py",
   "mimetype": "text/x-python",
   "name": "python",
   "nbconvert_exporter": "python",
   "pygments_lexer": "ipython3",
   "version": "3.7.6"
  }
 },
 "nbformat": 4,
 "nbformat_minor": 4
}
