{
 "cells": [
  {
   "cell_type": "code",
   "execution_count": null,
   "metadata": {},
   "outputs": [],
   "source": [
    "#!/usr/bin/env python\n",
    "# -*- coding: utf-8 -*-"
   ]
  },
  {
   "cell_type": "markdown",
   "metadata": {},
   "source": [
    "<p style=\"color:blue;\">\n",
    "By Pramod Sharma : pramod.sharma@prasami.com\n",
    "<p>"
   ]
  },
  {
   "cell_type": "markdown",
   "metadata": {},
   "source": [
    "# Implementation of Perceptron including Softmax and Gradient Descend"
   ]
  },
  {
   "cell_type": "code",
   "execution_count": null,
   "metadata": {},
   "outputs": [],
   "source": [
    "# Lets import some libraries\n",
    "import numpy as np\n",
    "\n",
    "import pandas as pd\n",
    "\n",
    "import matplotlib.pyplot as plt\n",
    "\n",
    "from sklearn import datasets\n",
    "from sklearn.metrics import accuracy_score, confusion_matrix\n",
    "from sklearn.linear_model import Perceptron\n",
    "\n",
    "%matplotlib inline"
   ]
  },
  {
   "cell_type": "code",
   "execution_count": null,
   "metadata": {},
   "outputs": [],
   "source": [
    "# Some basic parameters\n",
    "inpDir = '../input'\n",
    "outDir = '../output'\n",
    "\n",
    "RANDOM_STATE = 24\n",
    "\n",
    "EPOCHS = 100\n",
    "\n",
    "# parameters for Matplotlib\n",
    "params = {'legend.fontsize': 'x-large',\n",
    "          'figure.figsize': (10, 8),\n",
    "          'axes.labelsize': 'x-large',\n",
    "          'axes.titlesize':'x-large',\n",
    "          'xtick.labelsize':'x-large',\n",
    "          'ytick.labelsize':'x-large'\n",
    "         }\n",
    "\n",
    "plt.rcParams.update(params)"
   ]
  },
  {
   "cell_type": "markdown",
   "metadata": {},
   "source": [
    "## Generate Data Set\n",
    "<p style=\"font-family: Arial; font-size:1.2em;color:black;\">\n",
    "Sklearn's dataset generator is good source of data for learning. To keep the example simple, I'll suggest  <a href=\"http://scikit-learn.org/stable/modules/generated/sklearn.datasets.make_moons.html\">make_moon</a> dataset generator.\n",
    "</p>"
   ]
  },
  {
   "cell_type": "code",
   "execution_count": null,
   "metadata": {},
   "outputs": [],
   "source": [
    "X, y = datasets.make_moons(n_samples=1000, shuffle=True, noise=0.2, random_state=RANDOM_STATE)"
   ]
  },
  {
   "cell_type": "markdown",
   "metadata": {},
   "source": [
    "<p style=\"font-family: Arial; font-size:1.2em;color:black;\">\n",
    "Dataframes are easier to visualize\n",
    "</p>"
   ]
  },
  {
   "cell_type": "code",
   "execution_count": null,
   "metadata": {
    "scrolled": false
   },
   "outputs": [],
   "source": [
    "data_df = pd.DataFrame(X, columns = ['A', 'B'])\n",
    "data_df['target'] = y\n",
    "data_df.head()"
   ]
  },
  {
   "cell_type": "code",
   "execution_count": null,
   "metadata": {},
   "outputs": [],
   "source": [
    "data_df.describe()"
   ]
  },
  {
   "cell_type": "code",
   "execution_count": null,
   "metadata": {},
   "outputs": [],
   "source": [
    "# Lets look at what unique values are there in the data\n",
    "data_df.target.unique()"
   ]
  },
  {
   "cell_type": "code",
   "execution_count": null,
   "metadata": {},
   "outputs": [],
   "source": [
    "data_df.plot.scatter('A', 'B', s=40, c = 'target', cmap=plt.cm.Spectral);"
   ]
  },
  {
   "cell_type": "markdown",
   "metadata": {},
   "source": [
    "Out of 5000 records, we will keep 20%, ie 1000 records for testing and remaining records will be used in training."
   ]
  },
  {
   "cell_type": "code",
   "execution_count": null,
   "metadata": {},
   "outputs": [],
   "source": [
    "#X = data.drop('target', axis=1)\n",
    "#Y = data['target']\n",
    "data_train, data_test = data_df.values[:900], data_df.values[900:]\n",
    "\n",
    "print (data_train.shape, data_test.shape, )"
   ]
  },
  {
   "cell_type": "markdown",
   "metadata": {},
   "source": [
    "# Over to Perceptron"
   ]
  },
  {
   "cell_type": "markdown",
   "metadata": {},
   "source": [
    "<p style=\"font-family: Arial; font-size:1.2em;color:black;\">\n",
    "Since our output is binary, it makes sense to use $\\mathrm{softmax}$. In this particular case we will simply output 1 for positive values of activations and zero for negative values.</p>\n",
    "$$\n",
    "\\begin{aligned}\n",
    "z & = x_1 . w_1 + x_2 . w_2 + b_1 \\\\\n",
    "a & = \\hat{y} = \\mathrm{sigmoid}(z)\\\\\n",
    "dz & = (a - \\hat{y})\\\\\n",
    "db & = dz\\\\\n",
    "b & = b - \\alpha . db\\\\\n",
    "dw_1 & = x_1. dz\\\\\n",
    "dw_2 & = x_2.dz\\\\\n",
    "w_1 & = w_1 - \\alpha . dw_1\\\\\n",
    "w_2 & = w_1 - \\alpha . dw_2\\\\\n",
    "\\end{aligned}\n",
    "$$"
   ]
  },
  {
   "cell_type": "code",
   "execution_count": null,
   "metadata": {},
   "outputs": [],
   "source": [
    "def sigmoid(z):\n",
    "    \n",
    "    return 1 / ( 1 + np.exp ( -z ) )"
   ]
  },
  {
   "cell_type": "code",
   "execution_count": null,
   "metadata": {},
   "outputs": [],
   "source": [
    "# We will make first a function to make predictions\n",
    "def predict(row, weights):\n",
    "    \n",
    "    \n",
    "    # building up z = X * W + b\n",
    "    \n",
    "    z = weights[0] # Initialize with b, bias\n",
    "    \n",
    "    for i in range(len(row)-1):\n",
    "        \n",
    "        z += weights[i + 1] * row[i] # and weights are added here to the values\n",
    "    \n",
    "    a = sigmoid(z)\n",
    "    # print (\"Z = {}, a = {}\".format(z, a))\n",
    "    #return 1 if a >= 0.5 else 0\n",
    "    return a"
   ]
  },
  {
   "cell_type": "code",
   "execution_count": null,
   "metadata": {},
   "outputs": [],
   "source": [
    "#lets test predictions\n",
    "weights = [0.1, 2.0, 1.0]\n",
    "display(data_df.loc[0])\n",
    "predict(data_df.loc[0].values, weights)"
   ]
  },
  {
   "cell_type": "code",
   "execution_count": null,
   "metadata": {},
   "outputs": [],
   "source": [
    "# Estimate Perceptron weights\n",
    "def train_weights(train, alpha, n_epoch):\n",
    "    \n",
    "    errors = []\n",
    "    \n",
    "    #Initialize Weights. In theory b can be zero.            \n",
    "    weights = np.random.rand(train.shape[1])           \n",
    "    \n",
    "    for epoch in range(n_epoch):\n",
    "        \n",
    "        sum_error = 0.0\n",
    "        \n",
    "        for row in train:\n",
    "            \n",
    "            a = predict(row, weights)\n",
    "\n",
    "            \n",
    "            error = -row[-1] * np.log(a)\n",
    "                \n",
    "            dz = a - row[-1]\n",
    "            \n",
    "            sum_error += error\n",
    "            \n",
    "            weights[0] = weights[0] - alpha * dz\n",
    "            \n",
    "            for i in range(len(row)-1):\n",
    "                \n",
    "                weights[i + 1] = weights[i + 1] - alpha * dz * row[i]\n",
    "        \n",
    "        errors.append(sum_error)\n",
    "    \n",
    "    return errors, weights"
   ]
  },
  {
   "cell_type": "code",
   "execution_count": null,
   "metadata": {},
   "outputs": [],
   "source": []
  },
  {
   "cell_type": "code",
   "execution_count": null,
   "metadata": {},
   "outputs": [],
   "source": [
    "alpha = 0.05\n",
    "n_epoch = 100\n",
    "errors, weights = train_weights(data_train, alpha, n_epoch)\n",
    "print(weights)"
   ]
  },
  {
   "cell_type": "code",
   "execution_count": null,
   "metadata": {},
   "outputs": [],
   "source": [
    "errors[0],errors[-1]"
   ]
  },
  {
   "cell_type": "code",
   "execution_count": null,
   "metadata": {},
   "outputs": [],
   "source": [
    "fig, ax = plt.subplots()\n",
    "ax.plot(errors);\n",
    "\n",
    "# little beautification\n",
    "txtstr = \"Errors: \\n  Start : {:7.2f}\\n   End : {:7.2f}\".format(errors[0],errors[-1]) #text to plot\n",
    "# properties  matplotlib.patch.Patch \n",
    "props = dict(boxstyle='round', facecolor='wheat', alpha=0.5)\n",
    "\n",
    "# place a text box in upper left in axes coords\n",
    "\n",
    "ax.text(0.75, 0.95, txtstr, transform=ax.transAxes, fontsize=14,\n",
    "        verticalalignment='top', bbox=props)\n",
    "\n",
    "ax.set_xlabel(\"Epochs\")\n",
    "ax.set_ylabel(\"Error\")\n",
    "ax.grid();"
   ]
  },
  {
   "cell_type": "code",
   "execution_count": null,
   "metadata": {},
   "outputs": [],
   "source": [
    "predictions = []\n",
    "for row in data_test:\n",
    "    a = predict(row, weights)\n",
    "    prediction = 0\n",
    "    if a >=0.5: prediction = 1\n",
    "    \n",
    "    predictions.append(prediction)"
   ]
  },
  {
   "cell_type": "code",
   "execution_count": null,
   "metadata": {
    "scrolled": true
   },
   "outputs": [],
   "source": [
    "accuracy_score(data_test[:,-1], predictions)"
   ]
  },
  {
   "cell_type": "code",
   "execution_count": null,
   "metadata": {},
   "outputs": [],
   "source": [
    "confusion_matrix(data_test[:,-1], predictions)"
   ]
  },
  {
   "cell_type": "code",
   "execution_count": null,
   "metadata": {},
   "outputs": [],
   "source": [
    "def fn_plot_decision_boundary(X, y):\n",
    "    \n",
    "    fig, ax = plt.subplots();\n",
    "    \n",
    "    dm = 0.05\n",
    "    \n",
    "    x_min, x_max = X[:, 0].min() - 1, X[:, 0].max() + 1\n",
    "    \n",
    "    y_min, y_max = X[:, 1].min() - 1, X[:, 1].max() + 1\n",
    "    \n",
    "    xx, yy = np.meshgrid(np.arange(x_min, x_max, dm),\n",
    "                         np.arange(y_min, y_max, dm))\n",
    "    \n",
    "    XX = np.c_[xx.ravel(), yy.ravel()]\n",
    "\n",
    "    XX = np.hstack( ( XX, np.ones((XX.shape[0],1)) ) )\n",
    "    \n",
    "    \n",
    "    y_pred = []\n",
    "    \n",
    "    for row in (XX):\n",
    "        a = predict(row, weights)\n",
    "        y_p = 0\n",
    "        if a >=0.5: y_p = 1\n",
    "        y_pred.append(y_p)\n",
    "        \n",
    "    Z = np.array(y_pred).reshape(xx.shape)\n",
    "\n",
    "    ax.contourf(xx, yy, Z, alpha=0.4, cmap=plt.cm.Paired)\n",
    "    ax.scatter(X[:, 0], X[:, 1], c=y,\n",
    "                                  s=20, edgecolor='k', cmap=plt.cm.Paired)\n",
    "    ax.set_title('Decision Boundary')\n",
    "\n",
    "    ax.set_xlabel('A')\n",
    "    ax.set_ylabel('B')\n",
    "    plt.show()"
   ]
  },
  {
   "cell_type": "code",
   "execution_count": null,
   "metadata": {},
   "outputs": [],
   "source": [
    "fn_plot_decision_boundary(X, y)"
   ]
  },
  {
   "cell_type": "code",
   "execution_count": null,
   "metadata": {},
   "outputs": [],
   "source": []
  }
 ],
 "metadata": {
  "kernelspec": {
   "display_name": "Python 3",
   "language": "python",
   "name": "python3"
  },
  "language_info": {
   "codemirror_mode": {
    "name": "ipython",
    "version": 3
   },
   "file_extension": ".py",
   "mimetype": "text/x-python",
   "name": "python",
   "nbconvert_exporter": "python",
   "pygments_lexer": "ipython3",
   "version": "3.8.5"
  }
 },
 "nbformat": 4,
 "nbformat_minor": 2
}
