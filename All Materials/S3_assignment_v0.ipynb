{
 "cells": [
  {
   "cell_type": "code",
   "execution_count": 1,
   "metadata": {},
   "outputs": [],
   "source": [
    "#!/usr/bin/env python\n",
    "# -*- coding: utf-8 -*-"
   ]
  },
  {
   "cell_type": "markdown",
   "metadata": {},
   "source": [
    "# Session 3: Assignement\n",
    "## Implementation  of Perceptron\n",
    "### Dated : 29th October 2020\n",
    "<p style=\"color:blue;\">\n",
    "    Version : 0<br>\n",
    "By Pramod Sharma : pramod.sharma@prasami.com\n",
    "<p>"
   ]
  },
  {
   "cell_type": "markdown",
   "metadata": {},
   "source": [
    "<p style=\"font-family: Arial; font-size:1.2em;color:black;\">\n",
    "    Step 1: Import libraries<br/>\n",
    "    Step 2: Generate Data Set:\n",
    "Sklearn's dataset generator is good source of data for learning. To keep the example simple, use <a href=\"http://scikit-learn.org/stable/modules/generated/sklearn.datasets.make_moons.html\">make_moon</a> dataset generator.<br/>\n",
    "    Step 3: Implement code as per the procedure explained in the session.\n",
    "</p> "
   ]
  },
  {
   "cell_type": "markdown",
   "metadata": {},
   "source": [
    "## Perceptron"
   ]
  },
  {
   "cell_type": "markdown",
   "metadata": {},
   "source": [
    "<p style=\"font-family: Arial; font-size:1.2em;color:black;\">\n",
    "Since our output is binary, it makes sense to use $\\mathrm{softmax}$. In this particular case, we will simply output 1 for positive values of activations and zero for negative values.</p>\n",
    "<img src=\"../Presentations/images/S3/nn_L4_fig_2.jpg\">\n",
    "$$\n",
    "\\begin{aligned}\n",
    "z & = x_1 . w_1 + x_2 . w_2 + b_1 \\\\\n",
    "\\end{aligned}\n",
    "$$\n",
    "<br/>\n",
    "\n",
    "$$\n",
    "\\begin{equation*}\n",
    "\\hat{y} =  \\begin{vmatrix}\n",
    "1.0 for z>=0  \\\\\n",
    "0.0 for z<0\\\\\n",
    "\\end{vmatrix}\n",
    "\\end{equation*}\n",
    "$$"
   ]
  },
  {
   "cell_type": "markdown",
   "metadata": {},
   "source": [
    "<ul style=\"font-family: Arial; font-size:1.2em;color:black;\">\n",
    "<li> Adjusting weights by learning_rate * (a-y).</li>\n",
    "<li> Take Learning rate = 0.1</li>\n",
    "<li> Initialise random values for W and b.</li>\n",
    "<li> Train the model and make predictions on 10% records.</li>\n",
    "<li> Print Accuracy and confusion matrix.</li>\n",
    "</ul>"
   ]
  },
  {
   "cell_type": "code",
   "execution_count": null,
   "metadata": {},
   "outputs": [],
   "source": []
  }
 ],
 "metadata": {
  "kernelspec": {
   "display_name": "Python 3",
   "language": "python",
   "name": "python3"
  },
  "language_info": {
   "codemirror_mode": {
    "name": "ipython",
    "version": 3
   },
   "file_extension": ".py",
   "mimetype": "text/x-python",
   "name": "python",
   "nbconvert_exporter": "python",
   "pygments_lexer": "ipython3",
   "version": "3.8.3"
  }
 },
 "nbformat": 4,
 "nbformat_minor": 2
}
