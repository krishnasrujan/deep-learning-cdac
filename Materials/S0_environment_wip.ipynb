{
 "cells": [
  {
   "cell_type": "markdown",
   "metadata": {},
   "source": [
    "# S0 : Environment\n",
    "\n",
    "Version : 0 | Dated : 06/20/2020\n",
    "\n",
    "We need to prepare environment with necessary libraries. The course is prepared on Ubuntu 16.04 and also tested for Ubuntu 20.04. Some of the command may vary on different OS."
   ]
  },
  {
   "cell_type": "markdown",
   "metadata": {},
   "source": [
    "## Environment creation\n",
    "\n",
    "Its is recomended to use 'pipenv' to install the development environment. Please refer https://pypi.org/project/pipenv/ .\n",
    "\n",
    "Following libraries are recomended.\n",
    "- numpy\n",
    "- pandas\n",
    "- matplotlib\n",
    "- sympy\n",
    "- sklearn\n",
    "- scipy\n",
    "- jupyter\n",
    "- nltk\n",
    "- tensorflow\n",
    "- opencv-python"
   ]
  },
  {
   "cell_type": "code",
   "execution_count": null,
   "metadata": {
    "scrolled": false
   },
   "outputs": [],
   "source": [
    "import numpy as np\n",
    "import pandas as pd\n",
    "import matplotlib as mpl\n",
    "import sympy as sp\n",
    "import sklearn\n",
    "import scipy\n",
    "import IPython\n",
    "import nltk\n",
    "import tensorflow as tf\n",
    "\n",
    "print (\"##### Installed versions:\\n\")\n",
    "print (\"Numpy Version:\", np.__version__,'\\n')\n",
    "\n",
    "print (\"Pandas Version:\", pd.__version__, '\\n')\n",
    "\n",
    "print (\"Matplotlib Version:\", mpl.__version__, '\\n')\n",
    "\n",
    "print (\"SymPy Version:\", sp.__version__, '\\n')\n",
    "\n",
    "print (\"Scikit-learn Version:\", sklearn.__version__, '\\n')\n",
    "\n",
    "print (\"Scipy Version:\", scipy.__version__, '\\n')\n",
    "\n",
    "print (\"IPython Version:\", IPython.__version__, '\\n')\n",
    "\n",
    "print (\"Nltk Version:\", nltk.__version__, '\\n')\n",
    "\n",
    "print (\"TensorFlow Version:\" , tf.__version__, '\\n')\n",
    "\n",
    "print (\"######### End of print statements\")"
   ]
  },
  {
   "cell_type": "markdown",
   "metadata": {},
   "source": [
    "### Installation Note:\n",
    "The packages can be installed using pip3 command in Ubuntu.\n",
    "\n",
    "**1. Installation of pip3**\n",
    "\n",
    "- Pip can be installed as follows:\n",
    "\n",
    "*$sudo apt-get -y install python3-pip*\n",
    "\n",
    "This will install pip for python 3 and can be invoked using *pip3*\n",
    "\n",
    "**2. Installation of NLTK**\n",
    "\n",
    "After installation of nltk with pip or otherwise, download the libraries. To ensure central installation, run the command:\n",
    "\n",
    "*sudo python -m nltk.downloader -d /usr/local/share/nltk_data all*\n",
    "\n",
    "**3. Installation of pipenv**\n",
    "\n",
    "After installation of nltk with pip or otherwise, download the libraries. To ensure central installation, run the command:\n",
    "\n",
    "*sudo pip3 install pipenv*"
   ]
  },
  {
   "cell_type": "code",
   "execution_count": null,
   "metadata": {},
   "outputs": [],
   "source": []
  }
 ],
 "metadata": {
  "kernelspec": {
   "display_name": "Python 3",
   "language": "python",
   "name": "python3"
  },
  "language_info": {
   "codemirror_mode": {
    "name": "ipython",
    "version": 3
   },
   "file_extension": ".py",
   "mimetype": "text/x-python",
   "name": "python",
   "nbconvert_exporter": "python",
   "pygments_lexer": "ipython3",
   "version": "3.8.5"
  }
 },
 "nbformat": 4,
 "nbformat_minor": 1
}
