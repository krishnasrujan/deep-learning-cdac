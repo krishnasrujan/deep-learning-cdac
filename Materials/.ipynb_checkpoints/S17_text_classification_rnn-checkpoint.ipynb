{
 "cells": [
  {
   "cell_type": "markdown",
   "metadata": {
    "id": "hX4n9TsbGw-f"
   },
   "source": [
    "##### Copyright 2018 The TensorFlow Authors."
   ]
  },
  {
   "cell_type": "code",
   "execution_count": 1,
   "metadata": {
    "cellView": "form",
    "execution": {
     "iopub.execute_input": "2020-11-10T02:40:16.410373Z",
     "iopub.status.busy": "2020-11-10T02:40:16.409714Z",
     "iopub.status.idle": "2020-11-10T02:40:16.412459Z",
     "shell.execute_reply": "2020-11-10T02:40:16.411940Z"
    },
    "id": "0nbI5DtDGw-i"
   },
   "outputs": [],
   "source": [
    "#@title Licensed under the Apache License, Version 2.0 (the \"License\");\n",
    "# you may not use this file except in compliance with the License.\n",
    "# You may obtain a copy of the License at\n",
    "#\n",
    "# https://www.apache.org/licenses/LICENSE-2.0\n",
    "#\n",
    "# Unless required by applicable law or agreed to in writing, software\n",
    "# distributed under the License is distributed on an \"AS IS\" BASIS,\n",
    "# WITHOUT WARRANTIES OR CONDITIONS OF ANY KIND, either express or implied.\n",
    "# See the License for the specific language governing permissions and\n",
    "# limitations under the License."
   ]
  },
  {
   "cell_type": "markdown",
   "metadata": {
    "id": "9TnJztDZGw-n"
   },
   "source": [
    "# Text classification with an RNN"
   ]
  },
  {
   "cell_type": "markdown",
   "metadata": {
    "id": "AfN3bMR5Gw-o"
   },
   "source": [
    "<table class=\"tfo-notebook-buttons\" align=\"left\">\n",
    "  <td>\n",
    "    <a target=\"_blank\" href=\"https://www.tensorflow.org/tutorials/text/text_classification_rnn\"><img src=\"https://www.tensorflow.org/images/tf_logo_32px.png\" />View on TensorFlow.org</a>\n",
    "  </td>\n",
    "  <td>\n",
    "    <a target=\"_blank\" href=\"https://colab.research.google.com/github/tensorflow/docs/blob/master/site/en/tutorials/text/text_classification_rnn.ipynb\"><img src=\"https://www.tensorflow.org/images/colab_logo_32px.png\" />Run in Google Colab</a>\n",
    "  </td>\n",
    "  <td>\n",
    "    <a target=\"_blank\" href=\"https://github.com/tensorflow/docs/blob/master/site/en/tutorials/text/text_classification_rnn.ipynb\"><img src=\"https://www.tensorflow.org/images/GitHub-Mark-32px.png\" />View source on GitHub</a>\n",
    "  </td>\n",
    "  <td>\n",
    "    <a href=\"https://storage.googleapis.com/tensorflow_docs/docs/site/en/tutorials/text/text_classification_rnn.ipynb\"><img src=\"https://www.tensorflow.org/images/download_logo_32px.png\" />Download notebook</a>\n",
    "  </td>\n",
    "</table>"
   ]
  },
  {
   "cell_type": "markdown",
   "metadata": {
    "id": "lUWearf0Gw-p"
   },
   "source": [
    "This text classification tutorial trains a [recurrent neural network](https://developers.google.com/machine-learning/glossary/#recurrent_neural_network) on the [IMDB large movie review dataset](http://ai.stanford.edu/~amaas/data/sentiment/) for sentiment analysis."
   ]
  },
  {
   "cell_type": "markdown",
   "metadata": {
    "id": "_2VQo4bajwUU"
   },
   "source": [
    "## Setup"
   ]
  },
  {
   "cell_type": "code",
   "execution_count": 2,
   "metadata": {
    "execution": {
     "iopub.execute_input": "2020-11-10T02:40:16.417122Z",
     "iopub.status.busy": "2020-11-10T02:40:16.416484Z",
     "iopub.status.idle": "2020-11-10T02:40:17.837648Z",
     "shell.execute_reply": "2020-11-10T02:40:17.836979Z"
    },
    "id": "vH_FAfIz5dEw"
   },
   "outputs": [],
   "source": [
    "!pip install -q tensorflow_datasets"
   ]
  },
  {
   "cell_type": "code",
   "execution_count": 3,
   "metadata": {
    "execution": {
     "iopub.execute_input": "2020-11-10T02:40:17.842796Z",
     "iopub.status.busy": "2020-11-10T02:40:17.842105Z",
     "iopub.status.idle": "2020-11-10T02:40:24.418420Z",
     "shell.execute_reply": "2020-11-10T02:40:24.418864Z"
    },
    "id": "z682XYsrjkY9"
   },
   "outputs": [],
   "source": [
    "import numpy as np\n",
    "\n",
    "import tensorflow_datasets as tfds\n",
    "import tensorflow as tf\n",
    "\n",
    "tfds.disable_progress_bar()"
   ]
  },
  {
   "cell_type": "markdown",
   "metadata": {
    "id": "1rXHa-w9JZhb"
   },
   "source": [
    "Import `matplotlib` and create a helper function to plot graphs:"
   ]
  },
  {
   "cell_type": "code",
   "execution_count": 4,
   "metadata": {
    "execution": {
     "iopub.execute_input": "2020-11-10T02:40:24.424875Z",
     "iopub.status.busy": "2020-11-10T02:40:24.424198Z",
     "iopub.status.idle": "2020-11-10T02:40:24.426540Z",
     "shell.execute_reply": "2020-11-10T02:40:24.426024Z"
    },
    "id": "Mp1Z7P9pYRSK"
   },
   "outputs": [],
   "source": [
    "import matplotlib.pyplot as plt\n",
    "\n",
    "def plot_graphs(history, metric):\n",
    "  plt.plot(history.history[metric])\n",
    "  plt.plot(history.history['val_'+metric], '')\n",
    "  plt.xlabel(\"Epochs\")\n",
    "  plt.ylabel(metric)\n",
    "  plt.legend([metric, 'val_'+metric])"
   ]
  },
  {
   "cell_type": "markdown",
   "metadata": {
    "id": "pRmMubr0jrE2"
   },
   "source": [
    "## Setup input pipeline\n",
    "\n",
    "\n",
    "The IMDB large movie review dataset is a *binary classification* dataset—all the reviews have either a *positive* or *negative* sentiment.\n",
    "\n",
    "Download the dataset using [TFDS](https://www.tensorflow.org/datasets). See the [loading text tutorial](../load_data/text.ipynb) for details on how to load this sort of data manually.\n"
   ]
  },
  {
   "cell_type": "code",
   "execution_count": 5,
   "metadata": {
    "execution": {
     "iopub.execute_input": "2020-11-10T02:40:24.431518Z",
     "iopub.status.busy": "2020-11-10T02:40:24.430866Z",
     "iopub.status.idle": "2020-11-10T02:41:19.248959Z",
     "shell.execute_reply": "2020-11-10T02:41:19.249452Z"
    },
    "id": "SHRwRoP2nVHX"
   },
   "outputs": [
    {
     "name": "stdout",
     "output_type": "stream",
     "text": [
      "\u001b[1mDownloading and preparing dataset imdb_reviews/plain_text/1.0.0 (download: 80.23 MiB, generated: Unknown size, total: 80.23 MiB) to /home/pks/tensorflow_datasets/imdb_reviews/plain_text/1.0.0...\u001b[0m\n",
      "Shuffling and writing examples to /home/pks/tensorflow_datasets/imdb_reviews/plain_text/1.0.0.incomplete8EBPTZ/imdb_reviews-train.tfrecord\n",
      "Shuffling and writing examples to /home/pks/tensorflow_datasets/imdb_reviews/plain_text/1.0.0.incomplete8EBPTZ/imdb_reviews-test.tfrecord\n",
      "Shuffling and writing examples to /home/pks/tensorflow_datasets/imdb_reviews/plain_text/1.0.0.incomplete8EBPTZ/imdb_reviews-unsupervised.tfrecord\n",
      "\u001b[1mDataset imdb_reviews downloaded and prepared to /home/pks/tensorflow_datasets/imdb_reviews/plain_text/1.0.0. Subsequent calls will reuse this data.\u001b[0m\n"
     ]
    },
    {
     "data": {
      "text/plain": [
       "(TensorSpec(shape=(), dtype=tf.string, name=None),\n",
       " TensorSpec(shape=(), dtype=tf.int64, name=None))"
      ]
     },
     "execution_count": 5,
     "metadata": {},
     "output_type": "execute_result"
    }
   ],
   "source": [
    "dataset, info = tfds.load('imdb_reviews', with_info=True,\n",
    "                          as_supervised=True)\n",
    "train_dataset, test_dataset = dataset['train'], dataset['test']\n",
    "\n",
    "train_dataset.element_spec"
   ]
  },
  {
   "cell_type": "markdown",
   "metadata": {
    "id": "nWA4c2ir7g6p"
   },
   "source": [
    "Initially this returns a dataset of (text, label pairs):"
   ]
  },
  {
   "cell_type": "code",
   "execution_count": 6,
   "metadata": {
    "execution": {
     "iopub.execute_input": "2020-11-10T02:41:19.254724Z",
     "iopub.status.busy": "2020-11-10T02:41:19.254014Z",
     "iopub.status.idle": "2020-11-10T02:41:19.293169Z",
     "shell.execute_reply": "2020-11-10T02:41:19.293669Z"
    },
    "id": "vd4_BGKyurao"
   },
   "outputs": [
    {
     "name": "stdout",
     "output_type": "stream",
     "text": [
      "text:  b\"This was an absolutely terrible movie. Don't be lured in by Christopher Walken or Michael Ironside. Both are great actors, but this must simply be their worst role in history. Even their great acting could not redeem this movie's ridiculous storyline. This movie is an early nineties US propaganda piece. The most pathetic scenes were those when the Columbian rebels were making their cases for revolutions. Maria Conchita Alonso appeared phony, and her pseudo-love affair with Walken was nothing but a pathetic emotional plug in a movie that was devoid of any real meaning. I am disappointed that there are movies like this, ruining actor's like Christopher Walken's good name. I could barely sit through it.\"\n",
      "label:  0\n"
     ]
    }
   ],
   "source": [
    "for example, label in train_dataset.take(1):\n",
    "  print('text: ', example.numpy())\n",
    "  print('label: ', label.numpy())"
   ]
  },
  {
   "cell_type": "markdown",
   "metadata": {
    "id": "z2qVJzcEluH_"
   },
   "source": [
    "Next shuffle the data for training and create batches of these `(text, label)` pairs:"
   ]
  },
  {
   "cell_type": "code",
   "execution_count": 7,
   "metadata": {
    "execution": {
     "iopub.execute_input": "2020-11-10T02:41:19.298346Z",
     "iopub.status.busy": "2020-11-10T02:41:19.297481Z",
     "iopub.status.idle": "2020-11-10T02:41:19.299638Z",
     "shell.execute_reply": "2020-11-10T02:41:19.300089Z"
    },
    "id": "dDsCaZCDYZgm"
   },
   "outputs": [],
   "source": [
    "BUFFER_SIZE = 10000\n",
    "BATCH_SIZE = 64"
   ]
  },
  {
   "cell_type": "code",
   "execution_count": 8,
   "metadata": {
    "execution": {
     "iopub.execute_input": "2020-11-10T02:41:19.305015Z",
     "iopub.status.busy": "2020-11-10T02:41:19.304176Z",
     "iopub.status.idle": "2020-11-10T02:41:19.307466Z",
     "shell.execute_reply": "2020-11-10T02:41:19.307875Z"
    },
    "id": "VznrltNOnUc5"
   },
   "outputs": [],
   "source": [
    "train_dataset = train_dataset.shuffle(BUFFER_SIZE).batch(BATCH_SIZE).prefetch(tf.data.experimental.AUTOTUNE)\n",
    "test_dataset = test_dataset.batch(BATCH_SIZE).prefetch(tf.data.experimental.AUTOTUNE)"
   ]
  },
  {
   "cell_type": "code",
   "execution_count": 9,
   "metadata": {
    "execution": {
     "iopub.execute_input": "2020-11-10T02:41:19.312221Z",
     "iopub.status.busy": "2020-11-10T02:41:19.311533Z",
     "iopub.status.idle": "2020-11-10T02:41:19.554846Z",
     "shell.execute_reply": "2020-11-10T02:41:19.555323Z"
    },
    "id": "jqkvdcFv41wC"
   },
   "outputs": [
    {
     "name": "stdout",
     "output_type": "stream",
     "text": [
      "texts:  [b'Seriously crappy movie.<br /><br />First off, the movie starts with a cop and his partner parked outside of a warehouse/furniture store. The \"bad\" cop takes a girl, which they had pulled over, into the warehouse\\'s attic, while the newbie cop sits outside and ponders what could be happening up there. The \"bad\" cop eventually returns with a heavy duffel bag, and the newbie cop doesn\\'t think there are any problems, but he still wonders what was in the bag, so he asks, gets a bullshit response, and then he thinks everything is OK (for now).<br /><br />The \"bad\" cop repeats this process, and even once with a tit scene (made it slightly better). But eventually people start to catch on, which took awhile considering how f***ing obvious it was. One girl gets a voodoo curse placed on her just in case she dies, like ya do. Now, the \"bad\" cop eventually kills this magically protected bitch, and then he gets rid of the duffel-bagged body.<br /><br />Since she had the oogey-boogey magic put on her, she comes back with lots of eye-shadow on, which is supposed to indicate that she may be a zombie... also, the magic curse causes all of the other girls to become \"eye-shadow monsters\". Some of the girls meet up with a dude, who is apparently a currency specialist, and he offers them a ride (they look normal to him apparently). But when the girls see other people, such as the one girls husband, he freaks out because she is hideous (some people freak out, but others don\\'t even notice).... massive plot hole.<br /><br />So, to wrap it up, the eye-shadow monsters kill the \"bad\" cop, who in turn ends up becoming a zombie in the last scene. It was as though they were trying to prep us for a sequel! Like anyone would want to see part 2 of this cow dropping.'\n",
      " b'I\\'ve now just realised that by watching this film I have lost valuable precious moments of my life I will never get back. Thsi film isn\\'t just poor its dire. It reminded me of every stereotypical black sitcom ever made.<br /><br />I regret watching this film.<br /><br />Flixmedia reckons its a race issue, apparently \"White\" people don\\'t like it because it doesn\\'t have white actors. Mate, I think you\\'ll find the reason why no one liked this was because watching paint dry is far more entertaining and funnier then this pile of drivel.<br /><br />Please stop making crap films'\n",
      " b\"Wow, what a snoozer. Definately one of bacon's worst films. The bad acting coupled with a formulatic, if not incredulous, script make me yearn for time I wasted on viewing this on cable television back. Not really much I can say about it, a basketball scout gets too attached to the person he's recruiting, who happens to belong to a tribe that happens to be on the verge of war which happens to be decided by (spoiler) a basketball game. Grade: F+\"]\n",
      "\n",
      "labels:  [0 0 0]\n"
     ]
    }
   ],
   "source": [
    "for example, label in train_dataset.take(1):\n",
    "  print('texts: ', example.numpy()[:3])\n",
    "  print()\n",
    "  print('labels: ', label.numpy()[:3])"
   ]
  },
  {
   "cell_type": "markdown",
   "metadata": {
    "id": "s5eWCo88voPY"
   },
   "source": [
    "## Create the text encoder"
   ]
  },
  {
   "cell_type": "markdown",
   "metadata": {
    "id": "TFevcItw15P_"
   },
   "source": [
    "The raw text loaded by `tfds` needs to be processed before it can be used in a model. The simplest way to process text for training is using the `experimental.preprocessing.TextVectorization` layer. This layer has many capabilities, but this tutorial sticks to the default behavior.\n",
    "\n",
    "Create the layer, and pass the dataset's text to the layer's `.adapt` method:"
   ]
  },
  {
   "cell_type": "code",
   "execution_count": 10,
   "metadata": {
    "execution": {
     "iopub.execute_input": "2020-11-10T02:41:19.572993Z",
     "iopub.status.busy": "2020-11-10T02:41:19.560125Z",
     "iopub.status.idle": "2020-11-10T02:41:24.078435Z",
     "shell.execute_reply": "2020-11-10T02:41:24.077811Z"
    },
    "id": "uC25Lu1Yvuqy"
   },
   "outputs": [],
   "source": [
    "VOCAB_SIZE=1000\n",
    "encoder = tf.keras.layers.experimental.preprocessing.TextVectorization(\n",
    "    max_tokens=VOCAB_SIZE)\n",
    "encoder.adapt(train_dataset.map(lambda text, label: text))"
   ]
  },
  {
   "cell_type": "markdown",
   "metadata": {
    "id": "IuQzVBbe3Ldu"
   },
   "source": [
    "The `.adapt` method sets the layer's vocabulary. Here are the first 20 tokens. After the padding and unknown tokens they're sorted by frequency: "
   ]
  },
  {
   "cell_type": "code",
   "execution_count": 11,
   "metadata": {
    "execution": {
     "iopub.execute_input": "2020-11-10T02:41:24.083459Z",
     "iopub.status.busy": "2020-11-10T02:41:24.082778Z",
     "iopub.status.idle": "2020-11-10T02:41:24.088082Z",
     "shell.execute_reply": "2020-11-10T02:41:24.087462Z"
    },
    "id": "tBoyjjWg0Ac9"
   },
   "outputs": [
    {
     "data": {
      "text/plain": [
       "array(['', '[UNK]', 'the', 'and', 'a', 'of', 'to', 'is', 'in', 'it', 'i',\n",
       "       'this', 'that', 'br', 'was', 'as', 'for', 'with', 'movie', 'but'],\n",
       "      dtype='<U14')"
      ]
     },
     "execution_count": 11,
     "metadata": {},
     "output_type": "execute_result"
    }
   ],
   "source": [
    "vocab = np.array(encoder.get_vocabulary())\n",
    "vocab[:20]"
   ]
  },
  {
   "cell_type": "markdown",
   "metadata": {
    "id": "mjId5pua3jHQ"
   },
   "source": [
    "Once the vocabulary is set, the layer can encode text into indices. The tensors of indices are 0-padded to the longest sequence in the batch (unless you set a fixed `output_sequence_length`):"
   ]
  },
  {
   "cell_type": "code",
   "execution_count": 12,
   "metadata": {
    "execution": {
     "iopub.execute_input": "2020-11-10T02:41:24.092448Z",
     "iopub.status.busy": "2020-11-10T02:41:24.091812Z",
     "iopub.status.idle": "2020-11-10T02:41:24.106347Z",
     "shell.execute_reply": "2020-11-10T02:41:24.106764Z"
    },
    "id": "RGc7C9WiwRWs"
   },
   "outputs": [
    {
     "data": {
      "text/plain": [
       "'encoded_example = encoder(example)[:3].numpy()\\nencoded_example'"
      ]
     },
     "execution_count": 12,
     "metadata": {},
     "output_type": "execute_result"
    }
   ],
   "source": [
    "'''encoded_example = encoder(example)[:3].numpy()\n",
    "encoded_example'''"
   ]
  },
  {
   "cell_type": "markdown",
   "metadata": {
    "id": "F5cjz0bS39IN"
   },
   "source": [
    "With the default settings, the process is not completely reversible. There are three main reasns for that:\n",
    "\n",
    "1. The default value for `preprocessing.TextVectorization`'s `standardize` argument is `\"lower_and_strip_punctuation\"`.\n",
    "2. The limited vocabulary size and lack of character-based fallback results in some unknown tokens."
   ]
  },
  {
   "cell_type": "code",
   "execution_count": 13,
   "metadata": {
    "execution": {
     "iopub.execute_input": "2020-11-10T02:41:24.111645Z",
     "iopub.status.busy": "2020-11-10T02:41:24.111013Z",
     "iopub.status.idle": "2020-11-10T02:41:24.115772Z",
     "shell.execute_reply": "2020-11-10T02:41:24.116216Z"
    },
    "id": "N_tD0QY5wXaK"
   },
   "outputs": [
    {
     "data": {
      "text/plain": [
       "'for n in range(3):\\n  print(\"Original: \", example[n].numpy())\\n  print(\"Round-trip: \", \" \".join(vocab[encoded_example[n]]))\\n  print()'"
      ]
     },
     "execution_count": 13,
     "metadata": {},
     "output_type": "execute_result"
    }
   ],
   "source": [
    "'''for n in range(3):\n",
    "  print(\"Original: \", example[n].numpy())\n",
    "  print(\"Round-trip: \", \" \".join(vocab[encoded_example[n]]))\n",
    "  print()'''"
   ]
  },
  {
   "cell_type": "markdown",
   "metadata": {
    "id": "bjUqGVBxGw-t"
   },
   "source": [
    "## Create the model"
   ]
  },
  {
   "cell_type": "markdown",
   "metadata": {
    "id": "W7zsmInBOCPO"
   },
   "source": [
    "![A drawing of the information flow in the model](images/bidirectional.png)"
   ]
  },
  {
   "cell_type": "markdown",
   "metadata": {
    "id": "bgs6nnSTGw-t"
   },
   "source": [
    "Above is a diagram of the model. \n",
    "\n",
    "1. This model can be build as a `tf.keras.Sequential`.\n",
    "\n",
    "1. The first layer is the `encoder`, which converts the text to a sequence of token indices.\n",
    "\n",
    "2. After the encoder is an embedding layer. An embedding layer stores one vector per word. When called, it converts the sequences of word indices to sequences of vectors. These vectors are trainable. After training (on enough data), words with similar meanings often have similar vectors.\n",
    "\n",
    "  This index-lookup is much more efficient than the equivalent operation of passing a one-hot encoded vector through a `tf.keras.layers.Dense` layer.\n",
    "\n",
    "3. A recurrent neural network (RNN) processes sequence input by iterating through the elements. RNNs pass the outputs from one timestep to their input on the next timestep.\n",
    "\n",
    "  The `tf.keras.layers.Bidirectional` wrapper can also be used with an RNN layer. This propagates the input forward and backwards through the RNN layer and then concatenates the final output. \n",
    "\n",
    "  * The main advantage to a bidirectional RNN is that the signal from the beginning of the input doesn't need to be processed all the way through every timestep to affect the output.  \n",
    "\n",
    "  * The main disadvantage of a bidirectional RNN is that you can't efficiently stream predictions as words are being added to the end.\n",
    "\n",
    "1. After the RNN has converted the sequence to a single vector the two `layers.Dense` do some final processing, and convert from this vector representation to a single logit as the classification output. \n"
   ]
  },
  {
   "cell_type": "markdown",
   "metadata": {
    "id": "V4fodCI7soQi"
   },
   "source": [
    "The code to implement this is below:"
   ]
  },
  {
   "cell_type": "code",
   "execution_count": 14,
   "metadata": {
    "execution": {
     "iopub.execute_input": "2020-11-10T02:41:24.121725Z",
     "iopub.status.busy": "2020-11-10T02:41:24.121038Z",
     "iopub.status.idle": "2020-11-10T02:41:24.155014Z",
     "shell.execute_reply": "2020-11-10T02:41:24.154269Z"
    },
    "id": "LwfoBkmRYcP3"
   },
   "outputs": [],
   "source": [
    "model = tf.keras.Sequential([\n",
    "    encoder,\n",
    "    tf.keras.layers.Embedding(\n",
    "        input_dim=len(encoder.get_vocabulary()),\n",
    "        output_dim=64,\n",
    "        # Use masking to handle the variable sequence lengths\n",
    "        mask_zero=True),\n",
    "    tf.keras.layers.Bidirectional(tf.keras.layers.LSTM(64)),\n",
    "    tf.keras.layers.Dense(64, activation='relu'),\n",
    "    tf.keras.layers.Dense(1)\n",
    "])"
   ]
  },
  {
   "cell_type": "markdown",
   "metadata": {
    "id": "QIGmIGkkouUb"
   },
   "source": [
    "Please note that Keras sequential model is used here since all the layers in the model only have single input and produce single output. In case you want to use stateful RNN layer, you might want to build your model with Keras functional API or model subclassing so that you can retrieve and reuse the RNN layer states. Please check [Keras RNN guide](https://www.tensorflow.org/guide/keras/rnn#rnn_state_reuse) for more details."
   ]
  },
  {
   "cell_type": "markdown",
   "metadata": {
    "id": "kF-PsCk1LwjY"
   },
   "source": [
    "The embedding layer [uses masking](../../guide/keras/masking_and_padding) to handle the varying sequence-lengths. All the layers after the `Embedding` support masking:"
   ]
  },
  {
   "cell_type": "code",
   "execution_count": 15,
   "metadata": {
    "execution": {
     "iopub.execute_input": "2020-11-10T02:41:24.159987Z",
     "iopub.status.busy": "2020-11-10T02:41:24.159256Z",
     "iopub.status.idle": "2020-11-10T02:41:24.161963Z",
     "shell.execute_reply": "2020-11-10T02:41:24.162462Z"
    },
    "id": "87a8-CwfKebw"
   },
   "outputs": [
    {
     "name": "stdout",
     "output_type": "stream",
     "text": [
      "[False, True, True, True, True]\n"
     ]
    }
   ],
   "source": [
    "print([layer.supports_masking for layer in model.layers])"
   ]
  },
  {
   "cell_type": "markdown",
   "metadata": {
    "id": "ZlS0iaUIWLpI"
   },
   "source": [
    "To confirm that this works as expected, evaluate a sentence twice. First, alone so there's no padding to mask:"
   ]
  },
  {
   "cell_type": "code",
   "execution_count": 16,
   "metadata": {
    "execution": {
     "iopub.execute_input": "2020-11-10T02:41:24.168072Z",
     "iopub.status.busy": "2020-11-10T02:41:24.167320Z",
     "iopub.status.idle": "2020-11-10T02:41:30.445114Z",
     "shell.execute_reply": "2020-11-10T02:41:30.444586Z"
    },
    "id": "O41gw3KfWHus"
   },
   "outputs": [
    {
     "name": "stdout",
     "output_type": "stream",
     "text": [
      "[-0.006408]\n"
     ]
    }
   ],
   "source": [
    "# predict on a sample text without padding.\n",
    "\n",
    "sample_text = ('The movie was cool. The animation and the graphics '\n",
    "               'were out of this world. I would recommend this movie.')\n",
    "predictions = model.predict(np.array([sample_text]))\n",
    "print(predictions[0])"
   ]
  },
  {
   "cell_type": "markdown",
   "metadata": {
    "id": "K0VQmGnEWcuz"
   },
   "source": [
    "Now, evaluate it again in a batch with a longer sentence. The result should be identical:"
   ]
  },
  {
   "cell_type": "code",
   "execution_count": 17,
   "metadata": {
    "execution": {
     "iopub.execute_input": "2020-11-10T02:41:30.450463Z",
     "iopub.status.busy": "2020-11-10T02:41:30.449801Z",
     "iopub.status.idle": "2020-11-10T02:41:30.541207Z",
     "shell.execute_reply": "2020-11-10T02:41:30.540660Z"
    },
    "id": "UIgpuTeFNDzq"
   },
   "outputs": [
    {
     "name": "stdout",
     "output_type": "stream",
     "text": [
      "[-0.006408]\n"
     ]
    }
   ],
   "source": [
    "# predict on a sample text with padding\n",
    "\n",
    "padding = \"the \" * 2000\n",
    "predictions = model.predict(np.array([sample_text, padding]))\n",
    "print(predictions[0])"
   ]
  },
  {
   "cell_type": "markdown",
   "metadata": {
    "id": "sRI776ZcH3Tf"
   },
   "source": [
    "Compile the Keras model to configure the training process:"
   ]
  },
  {
   "cell_type": "code",
   "execution_count": 18,
   "metadata": {
    "execution": {
     "iopub.execute_input": "2020-11-10T02:41:30.554797Z",
     "iopub.status.busy": "2020-11-10T02:41:30.550154Z",
     "iopub.status.idle": "2020-11-10T02:41:30.564894Z",
     "shell.execute_reply": "2020-11-10T02:41:30.564371Z"
    },
    "id": "kj2xei41YZjC"
   },
   "outputs": [],
   "source": [
    "model.compile(loss=tf.keras.losses.BinaryCrossentropy(from_logits=True),\n",
    "              optimizer=tf.keras.optimizers.Adam(1e-4),\n",
    "              metrics=['accuracy'])"
   ]
  },
  {
   "cell_type": "code",
   "execution_count": null,
   "metadata": {},
   "outputs": [],
   "source": []
  },
  {
   "cell_type": "markdown",
   "metadata": {
    "id": "zIwH3nto596k"
   },
   "source": [
    "## Train the model"
   ]
  },
  {
   "cell_type": "code",
   "execution_count": 19,
   "metadata": {
    "execution": {
     "iopub.execute_input": "2020-11-10T02:41:30.569722Z",
     "iopub.status.busy": "2020-11-10T02:41:30.569003Z",
     "iopub.status.idle": "2020-11-10T02:46:26.216444Z",
     "shell.execute_reply": "2020-11-10T02:46:26.215764Z"
    },
    "id": "hw86wWS4YgR2"
   },
   "outputs": [
    {
     "name": "stdout",
     "output_type": "stream",
     "text": [
      "Epoch 1/10\n",
      "391/391 [==============================] - 432s 1s/step - loss: 0.6453 - accuracy: 0.5692 - val_loss: 0.4906 - val_accuracy: 0.7719\n",
      "Epoch 2/10\n",
      "391/391 [==============================] - 427s 1s/step - loss: 0.4179 - accuracy: 0.8108 - val_loss: 0.3835 - val_accuracy: 0.8245\n",
      "Epoch 3/10\n",
      "391/391 [==============================] - 429s 1s/step - loss: 0.3538 - accuracy: 0.8477 - val_loss: 0.3550 - val_accuracy: 0.8536\n",
      "Epoch 4/10\n",
      "391/391 [==============================] - 426s 1s/step - loss: 0.3247 - accuracy: 0.8631 - val_loss: 0.3381 - val_accuracy: 0.8578\n",
      "Epoch 5/10\n",
      "391/391 [==============================] - 422s 1s/step - loss: 0.3133 - accuracy: 0.8661 - val_loss: 0.3241 - val_accuracy: 0.8578\n",
      "Epoch 6/10\n",
      "391/391 [==============================] - 431s 1s/step - loss: 0.3060 - accuracy: 0.8696 - val_loss: 0.3289 - val_accuracy: 0.8531\n",
      "Epoch 7/10\n",
      "391/391 [==============================] - 423s 1s/step - loss: 0.3031 - accuracy: 0.8715 - val_loss: 0.3225 - val_accuracy: 0.8609\n",
      "Epoch 8/10\n",
      "391/391 [==============================] - 421s 1s/step - loss: 0.3027 - accuracy: 0.8722 - val_loss: 0.3275 - val_accuracy: 0.8615\n",
      "Epoch 9/10\n",
      "391/391 [==============================] - 422s 1s/step - loss: 0.2986 - accuracy: 0.8726 - val_loss: 0.3215 - val_accuracy: 0.8615\n",
      "Epoch 10/10\n",
      "391/391 [==============================] - 41975s 107s/step - loss: 0.2984 - accuracy: 0.8724 - val_loss: 0.3208 - val_accuracy: 0.8615\n"
     ]
    }
   ],
   "source": [
    "history = model.fit(train_dataset, epochs=10,\n",
    "                    validation_data=test_dataset, \n",
    "                    validation_steps=30)"
   ]
  },
  {
   "cell_type": "code",
   "execution_count": 20,
   "metadata": {
    "execution": {
     "iopub.execute_input": "2020-11-10T02:46:26.221163Z",
     "iopub.status.busy": "2020-11-10T02:46:26.220456Z",
     "iopub.status.idle": "2020-11-10T02:46:40.248236Z",
     "shell.execute_reply": "2020-11-10T02:46:40.247723Z"
    },
    "id": "BaNbXi43YgUT"
   },
   "outputs": [
    {
     "name": "stdout",
     "output_type": "stream",
     "text": [
      "391/391 [==============================] - 117s 299ms/step - loss: 0.3178 - accuracy: 0.8630\n",
      "Test Loss: 0.3178204596042633\n",
      "Test Accuracy: 0.8629599809646606\n"
     ]
    }
   ],
   "source": [
    "test_loss, test_acc = model.evaluate(test_dataset)\n",
    "\n",
    "print('Test Loss: {}'.format(test_loss))\n",
    "print('Test Accuracy: {}'.format(test_acc))"
   ]
  },
  {
   "cell_type": "code",
   "execution_count": 21,
   "metadata": {
    "execution": {
     "iopub.execute_input": "2020-11-10T02:46:40.264945Z",
     "iopub.status.busy": "2020-11-10T02:46:40.264379Z",
     "iopub.status.idle": "2020-11-10T02:46:40.521014Z",
     "shell.execute_reply": "2020-11-10T02:46:40.521489Z"
    },
    "id": "OZmwt_mzaQJk"
   },
   "outputs": [
    {
     "data": {
      "text/plain": [
       "(0.0, 0.6626876428723335)"
      ]
     },
     "execution_count": 21,
     "metadata": {},
     "output_type": "execute_result"
    },
    {
     "data": {
      "image/png": "[encoded data removed]",
      "text/plain": [
       "<Figure size 1152x576 with 2 Axes>"
      ]
     },
     "metadata": {
      "needs_background": "light"
     },
     "output_type": "display_data"
    }
   ],
   "source": [
    "plt.figure(figsize=(16,8))\n",
    "plt.subplot(1,2,1)\n",
    "plot_graphs(history, 'accuracy')\n",
    "plt.ylim(None,1)\n",
    "plt.subplot(1,2,2)\n",
    "plot_graphs(history, 'loss')\n",
    "plt.ylim(0,None)"
   ]
  },
  {
   "cell_type": "markdown",
   "metadata": {
    "id": "DwSE_386uhxD"
   },
   "source": [
    "Run a prediction on a neew sentence:\n",
    "\n",
    "If the prediction is >= 0.0, it is positive else it is negative."
   ]
  },
  {
   "cell_type": "code",
   "execution_count": 22,
   "metadata": {
    "execution": {
     "iopub.execute_input": "2020-11-10T02:46:40.526310Z",
     "iopub.status.busy": "2020-11-10T02:46:40.525618Z",
     "iopub.status.idle": "2020-11-10T02:46:42.527252Z",
     "shell.execute_reply": "2020-11-10T02:46:42.527710Z"
    },
    "id": "ZXgfQSgRW6zU"
   },
   "outputs": [],
   "source": [
    "sample_text = ('The movie was cool. The animation and the graphics '\n",
    "               'were out of this world. I would recommend this movie.')\n",
    "predictions = model.predict(np.array([sample_text]))"
   ]
  },
  {
   "cell_type": "code",
   "execution_count": null,
   "metadata": {},
   "outputs": [],
   "source": [
    "predictions"
   ]
  },
  {
   "cell_type": "markdown",
   "metadata": {
    "id": "7g1evcaRpTKm"
   },
   "source": [
    "## Stack two or more LSTM layers\n",
    "\n",
    "Keras recurrent layers have two available modes that are controlled by the `return_sequences` constructor argument:\n",
    "\n",
    "* If `False` it returns only the last output for each input sequence (a 2D tensor of shape (batch_size, output_features)). This is the default, used in the previous model.\n",
    "\n",
    "* If `True` the full sequences of successive outputs for each timestep is returned (a 3D tensor of shape `(batch_size, timesteps, output_features)`).\n",
    "\n",
    "Here is what the flow of information looks like with `return_sequences=True`:\n",
    "\n",
    "![layered_bidirectional](images/layered_bidirectional.ipynb)"
   ]
  },
  {
   "cell_type": "markdown",
   "metadata": {
    "id": "wbSClCrG1z8l"
   },
   "source": [
    "The interesting thing about using an `RNN` with `return_sequences=True` is that the output still has 3-axes, like the input, so it can be passed to another RNN layer, like this:"
   ]
  },
  {
   "cell_type": "code",
   "execution_count": 23,
   "metadata": {
    "execution": {
     "iopub.execute_input": "2020-11-10T02:46:42.534213Z",
     "iopub.status.busy": "2020-11-10T02:46:42.533583Z",
     "iopub.status.idle": "2020-11-10T02:46:42.567937Z",
     "shell.execute_reply": "2020-11-10T02:46:42.568400Z"
    },
    "id": "jo1jjO3vn0jo"
   },
   "outputs": [],
   "source": [
    "model = tf.keras.Sequential([\n",
    "    encoder,\n",
    "    tf.keras.layers.Embedding(len(encoder.get_vocabulary()), 64, mask_zero=True),\n",
    "    tf.keras.layers.Bidirectional(tf.keras.layers.LSTM(64,  return_sequences=True)),\n",
    "    tf.keras.layers.Bidirectional(tf.keras.layers.LSTM(32)),\n",
    "    tf.keras.layers.Dense(64, activation='relu'),\n",
    "    tf.keras.layers.Dropout(0.5),\n",
    "    tf.keras.layers.Dense(1)\n",
    "])"
   ]
  },
  {
   "cell_type": "code",
   "execution_count": 24,
   "metadata": {
    "execution": {
     "iopub.execute_input": "2020-11-10T02:46:42.577925Z",
     "iopub.status.busy": "2020-11-10T02:46:42.577110Z",
     "iopub.status.idle": "2020-11-10T02:46:42.582184Z",
     "shell.execute_reply": "2020-11-10T02:46:42.581663Z"
    },
    "id": "hEPV5jVGp-is"
   },
   "outputs": [],
   "source": [
    "model.compile(loss=tf.keras.losses.BinaryCrossentropy(from_logits=True),\n",
    "              optimizer=tf.keras.optimizers.Adam(1e-4),\n",
    "              metrics=['accuracy'])"
   ]
  },
  {
   "cell_type": "code",
   "execution_count": null,
   "metadata": {
    "execution": {
     "iopub.execute_input": "2020-11-10T02:46:42.586619Z",
     "iopub.status.busy": "2020-11-10T02:46:42.585854Z",
     "iopub.status.idle": "2020-11-10T02:55:26.734344Z",
     "shell.execute_reply": "2020-11-10T02:55:26.733842Z"
    },
    "id": "LeSE-YjdqAeN"
   },
   "outputs": [
    {
     "name": "stdout",
     "output_type": "stream",
     "text": [
      "Epoch 1/10\n",
      "150/391 [==========>...................] - ETA: 7:53 - loss: 0.6925 - accuracy: 0.4954"
     ]
    }
   ],
   "source": [
    "history = model.fit(train_dataset, epochs=10,\n",
    "                    validation_data=test_dataset,\n",
    "                    validation_steps=30)"
   ]
  },
  {
   "cell_type": "code",
   "execution_count": null,
   "metadata": {
    "execution": {
     "iopub.execute_input": "2020-11-10T02:55:26.739395Z",
     "iopub.status.busy": "2020-11-10T02:55:26.738758Z",
     "iopub.status.idle": "2020-11-10T02:55:49.278955Z",
     "shell.execute_reply": "2020-11-10T02:55:49.278459Z"
    },
    "id": "_LdwilM1qPM3"
   },
   "outputs": [],
   "source": [
    "test_loss, test_acc = model.evaluate(test_dataset)\n",
    "\n",
    "print('Test Loss: {}'.format(test_loss))\n",
    "print('Test Accuracy: {}'.format(test_acc))"
   ]
  },
  {
   "cell_type": "code",
   "execution_count": null,
   "metadata": {
    "execution": {
     "iopub.execute_input": "2020-11-10T02:55:49.283124Z",
     "iopub.status.busy": "2020-11-10T02:55:49.282565Z",
     "iopub.status.idle": "2020-11-10T02:55:52.660057Z",
     "shell.execute_reply": "2020-11-10T02:55:52.659600Z"
    },
    "id": "ykUKnAoqbycW"
   },
   "outputs": [],
   "source": [
    "# predict on a sample text without padding.\n",
    "\n",
    "sample_text = ('The movie was not good. The animation and the graphics '\n",
    "                    'were terrible. I would not recommend this movie.')\n",
    "predictions = model.predict(np.array([sample_text]))\n",
    "print(predictions)"
   ]
  },
  {
   "cell_type": "code",
   "execution_count": null,
   "metadata": {
    "execution": {
     "iopub.execute_input": "2020-11-10T02:55:52.676955Z",
     "iopub.status.busy": "2020-11-10T02:55:52.676383Z",
     "iopub.status.idle": "2020-11-10T02:55:52.899997Z",
     "shell.execute_reply": "2020-11-10T02:55:52.899421Z"
    },
    "id": "_YYub0EDtwCu"
   },
   "outputs": [],
   "source": [
    "plt.figure(figsize=(16,6))\n",
    "plt.subplot(1,2,1)\n",
    "plot_graphs(history, 'accuracy')\n",
    "plt.subplot(1,2,2)\n",
    "plot_graphs(history, 'loss')"
   ]
  },
  {
   "cell_type": "markdown",
   "metadata": {
    "id": "9xvpE3BaGw_V"
   },
   "source": [
    "Check out other existing recurrent layers such as [GRU layers](https://www.tensorflow.org/api_docs/python/tf/keras/layers/GRU).\n",
    "\n",
    "If you're interestied in building custom RNNs, see the [Keras RNN Guide](../../guide/keras/rnn.ipynb).\n"
   ]
  }
 ],
 "metadata": {
  "accelerator": "GPU",
  "colab": {
   "collapsed_sections": [],
   "name": "text_classification_rnn.ipynb",
   "toc_visible": true
  },
  "kernelspec": {
   "display_name": "Python 3",
   "language": "python",
   "name": "python3"
  },
  "language_info": {
   "codemirror_mode": {
    "name": "ipython",
    "version": 3
   },
   "file_extension": ".py",
   "mimetype": "text/x-python",
   "name": "python",
   "nbconvert_exporter": "python",
   "pygments_lexer": "ipython3",
   "version": "3.8.5"
  }
 },
 "nbformat": 4,
 "nbformat_minor": 1
}
